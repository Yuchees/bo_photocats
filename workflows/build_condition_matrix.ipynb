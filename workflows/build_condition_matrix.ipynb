{
 "cells": [
  {
   "cell_type": "code",
   "execution_count": null,
   "metadata": {},
   "outputs": [],
   "source": [
    "import numpy as np\n",
    "import pandas as pd\n",
    "from pathlib import Path\n",
    "\n",
    "from scipy.spatial import distance\n",
    "from sklearn import preprocessing\n",
    "import umap\n",
    "\n",
    "from rdkit import Chem\n",
    "from rdkit.Chem import AllChem\n",
    "\n",
    "import plotly.graph_objects as go"
   ]
  },
  {
   "cell_type": "markdown",
   "metadata": {},
   "source": [
    "# 1 Generating all designed reaction conditions"
   ]
  },
  {
   "cell_type": "markdown",
   "metadata": {},
   "source": [
    "## 1.1 Build DataFrame of selected CNPs and ligands"
   ]
  },
  {
   "cell_type": "code",
   "execution_count": null,
   "metadata": {},
   "outputs": [],
   "source": [
    "# Building dataframe for Ni ligands and calculating fingerprints using the molecular structure files\n",
    "ligands_dir = Path('../data/Ni-27-ligands')\n",
    "fps_kwargs = {\n",
    "    'radius': 3,\n",
    "    'fpSize':2048\n",
    "}\n",
    "fpgen = AllChem.GetMorganGenerator(**fps_kwargs)\n",
    "i = 0\n",
    "df_ligands = pd.DataFrame(columns=['name', 'SMILES', 'fps'])\n",
    "for file in ligands_dir.iterdir():\n",
    "    if file.suffix == '.pdb':\n",
    "        mol = Chem.MolFromPDBFile(file.as_posix())\n",
    "        df_ligands.loc[i, :'SMILES'] = [int(file.stem), Chem.MolToSmiles(mol)]\n",
    "        df_ligands.at[i, 'fps'] = fpgen.GetFingerprint(mol).ToList()\n",
    "        i += 1\n",
    "df_ligands = df_ligands.sort_values(by='name', ignore_index=True)"
   ]
  },
  {
   "cell_type": "code",
   "execution_count": null,
   "metadata": {},
   "outputs": [],
   "source": [
    "# Built dataframe for ligands and calculate fingerprints\n",
    "cnps_idx = [122, 127, 128, 129, 131, 187, 234, 239, 240, 243, 295, 323, 379, 439, 463, 464, 491, 519]\n",
    "dft_df = pd.read_excel('../data/560_DFT_result.xlsx')\n",
    "df_cnps = dft_df.loc[cnps_idx, ['name', 'SMILES', 'ID', 'EA']]\n",
    "df_cnps.loc[:, 'fps'] = pd.DataFrame(columns=['fps']).astype('object')\n",
    "for idx in df_cnps.ID:\n",
    "    mol = Chem.MolFromSmiles(df_cnps.loc[idx, 'SMILES'])\n",
    "    df_cnps.at[idx, 'fps'] = fpgen.GetFingerprint(mol).ToList()\n",
    "df_cnps = df_cnps.sort_index().reset_index(drop=True)"
   ]
  },
  {
   "cell_type": "markdown",
   "metadata": {},
   "source": [
    "## 1.2 Build the DataFrame of designed conditions"
   ]
  },
  {
   "cell_type": "code",
   "execution_count": null,
   "metadata": {},
   "outputs": [],
   "source": [
    "# Generating all designed reaction conditions as a dataframe\n",
    "reaction_conditions = []\n",
    "df_conditions = pd.DataFrame(columns=['idx', 'name', 'ligand', 'molecule_id', 'Ni'])\n",
    "i =  0\n",
    "for ligand_idx in range(len(df_ligands)):\n",
    "    for mol_idx in range(len(df_cnps)):\n",
    "        for ni_idx in range(len(amount_ni)):\n",
    "            cond = [ligand_idx, mol_idx, ni_idx]\n",
    "            reaction_conditions.append(cond)\n",
    "            name = 'L{}_{}_{}'.format(df_ligands.loc[ligand_idx, 'name'], df_cnps.loc[mol_idx, 'name'], (ni_idx + 1))\n",
    "            df_conditions.loc[i, :] = [cond, name, df_ligands.loc[ligand_idx, 'name'], str(df_cnps.loc[mol_idx, 'ID']), (ni_idx + 1)]\n",
    "            i += 1"
   ]
  },
  {
   "cell_type": "code",
   "execution_count": null,
   "metadata": {},
   "outputs": [],
   "source": [
    "# Saving data\n",
    "df_ligands.to_pickle('../data/opt_conditions/df_ligands.pkl')\n",
    "df_cnps.to_pickle('../data/opt_conditions/df_selected_molecules.pkl')\n",
    "df_conditions.to_pickle('../data/opt_conditions/df_reaction_conditions.pkl')"
   ]
  },
  {
   "cell_type": "markdown",
   "metadata": {},
   "source": [
    "# 2 Build the distance matrix of designed conditions"
   ]
  },
  {
   "cell_type": "code",
   "execution_count": null,
   "metadata": {},
   "outputs": [],
   "source": [
    "# Loading data and define fps distance\n",
    "df_ligands = pd.read_pickle('../data/opt_conditions/df_ligands.pkl')\n",
    "df_cnps = pd.read_pickle('../data/opt_conditions/df_selected_molecules.pkl')\n",
    "df_conditions = pd.read_pickle('../data/opt_conditions/df_reaction_conditions.pkl')\n",
    "\n",
    "def cal_jaccard_dis_matrix(df, feature='fps'):\n",
    "    dis_matrix = np.zeros((df.shape[0], df.shape[0]))\n",
    "    for i in df.index:\n",
    "        for j in df.index:\n",
    "            dis = distance.jaccard(df.loc[i, feature], df.loc[j, feature])\n",
    "            dis_matrix[i][j] = dis\n",
    "    return dis_matrix"
   ]
  },
  {
   "cell_type": "code",
   "execution_count": null,
   "metadata": {},
   "outputs": [],
   "source": [
    "# Load scaled CNPs EA distance matrix\n",
    "cnps_ea_matrix = np.load('../data/opt_conditions/cnps_ea_matrix.npy')\n",
    "# Ni amount and distance\n",
    "amount_ni = preprocessing.minmax_scale([1, 2, 3, 4, 5, 6, 7, 8, 9, 10]).reshape(-1, 1)\n",
    "ni_matrix = distance.cdist(amount_ni, amount_ni, metric='euclidean')\n",
    "# Calculating jaccard fingerprints distance of ligands and molecules\n",
    "ligand_matrix = cal_jaccard_dis_matrix(df=df_ligands)\n",
    "mol_matrix = cal_jaccard_dis_matrix(df=df_cnps)"
   ]
  },
  {
   "cell_type": "code",
   "execution_count": null,
   "metadata": {},
   "outputs": [],
   "source": [
    "# Using a list as the iterable obj to speed up the build process\n",
    "reaction_conditions = df_conditions.idx.to_list()\n",
    "# Build the distance matrix of reaction conditions, shape = (4, 4500, 4500)\n",
    "dis_matrix = np.zeros((4, len(reaction_conditions), len(reaction_conditions)))\n",
    "for idx_0, condition_0 in enumerate(reaction_conditions):\n",
    "    for idx_1, condition_1 in enumerate(reaction_conditions):\n",
    "        dis_matrix[0,idx_0, idx_1] = ligand_matrix[condition_0[0]][condition_1[0]]  # Fingerprints distance of ligands\n",
    "        dis_matrix[1,idx_0, idx_1] = mol_matrix[condition_0[1]][condition_1[1]]     # Fingerprints distance of CNPs\n",
    "        dis_matrix[2,idx_0, idx_1] = cnps_ea_matrix[condition_0[1]][condition_1[1]] # EA distance of CNPs\n",
    "        dis_matrix[3,idx_0, idx_1] = ni_matrix[condition_0[2]][condition_1[2]]      # The distance of Ni loading "
   ]
  },
  {
   "cell_type": "code",
   "execution_count": null,
   "metadata": {},
   "outputs": [],
   "source": [
    "np.save('../data/opt_conditions/dis_matrix.npy', dis_matrix)"
   ]
  },
  {
   "cell_type": "markdown",
   "metadata": {},
   "source": [
    "# 3 Visualisation using UMAP and Plotly"
   ]
  },
  {
   "cell_type": "code",
   "execution_count": null,
   "metadata": {},
   "outputs": [],
   "source": [
    "# Loading required data\n",
    "dis_matrix = np.load('../data/opt_conditions/dis_matrix.npy')\n",
    "random_selection = pd.read_excel('../data/opt_conditions/exp_results.xlsx', sheet_name='random', index_col=0)\n",
    "random_selection.head()"
   ]
  },
  {
   "cell_type": "code",
   "execution_count": null,
   "metadata": {},
   "outputs": [],
   "source": [
    "# UMAP parameters\n",
    "umap_kwargs = {\n",
    "    'metric': 'precomputed', \n",
    "    'min_dist': 1, \n",
    "    'n_neighbors': 600, \n",
    "    'n_components': 2, \n",
    "    'n_epochs': 500,\n",
    "    'random_state': 1\n",
    "}\n",
    "# Set the kernel ratio parameters\n",
    "a = np.array([0.63537337, 1.10563238, 0.50150809, 0.94269454]).reshape(4, -1, 1)\n",
    "condition_dis_matrix = sum(dis_matrix*a)\n",
    "# Calculation of UMAP coordinates\n",
    "up = umap.UMAP(**umap_kwargs)\n",
    "pos_umap = up.fit_transform(condition_dis_matrix)\n",
    "# Saving the coordinates to dataframe\n",
    "df_conditions.loc[:, 'pos_0'] = pos_umap[:, 0]\n",
    "df_conditions.loc[:, 'pos_1'] = pos_umap[:, 1]\n",
    "# define the selected and unselected DataFrame\n",
    "selected_idx = random_selection.index.values\n",
    "df_conditions.Ni = df_conditions.Ni.astype(dtype='int')\n",
    "df_selection = df_conditions.loc[selected_idx, :]\n",
    "df_unselected = df_conditions.drop(index=selected_idx)"
   ]
  },
  {
   "cell_type": "code",
   "execution_count": null,
   "metadata": {},
   "outputs": [],
   "source": [
    "# Making figures\n",
    "axis_template = dict(showgrid=False, zeroline=False, showline=False, showticklabels=False)\n",
    "fig_val = go.Figure()\n",
    "fig_val.add_trace(go.Scatter(\n",
    "    x=df_unselected.loc[:, 'pos_0'],\n",
    "    y=df_unselected.loc[:, 'pos_1'],\n",
    "    mode='markers',\n",
    "    name='Designed chemical space',\n",
    "    text=df_unselected.loc[:, 'molecule_id'],\n",
    "    marker=dict(\n",
    "        symbol='circle',\n",
    "        size=5,\n",
    "        opacity=0.7,\n",
    "        line=dict(color='white', width=1), \n",
    "        color='Gray'\n",
    "    )\n",
    "))\n",
    "fig_val.add_trace(go.Scatter(\n",
    "    x=df_conditions.loc[selected_idx, 'pos_0'],\n",
    "    y=df_conditions.loc[selected_idx, 'pos_1'],\n",
    "    mode='markers',\n",
    "    name='Random selection',\n",
    "    text=df_conditions.loc[selected_idx, 'molecule_id'],\n",
    "    marker=dict(\n",
    "        symbol='diamond',\n",
    "        size=random_selection.loc[:, 'yield']*20+10,\n",
    "        opacity=0.7,\n",
    "        line=dict(color='white', width=1), \n",
    "        color='Black'\n",
    "    )\n",
    "))\n",
    "fig_val.update_layout(\n",
    "        margin = dict(l=0, r=230, t=0, b=0),\n",
    "        font = dict(family='Arial',\n",
    "            size=14,\n",
    "            color='black'),\n",
    "        plot_bgcolor='rgba(0,0,0,0)',\n",
    "        xaxis=axis_template,\n",
    "        yaxis=axis_template,\n",
    "        showlegend=True,\n",
    "        width=800,\n",
    "        height=600\n",
    "    )"
   ]
  },
  {
   "cell_type": "code",
   "execution_count": null,
   "metadata": {},
   "outputs": [],
   "source": []
  }
 ],
 "metadata": {
  "kernelspec": {
   "display_name": "chem_ccdc",
   "language": "python",
   "name": "python3"
  },
  "language_info": {
   "codemirror_mode": {
    "name": "ipython",
    "version": 3
   },
   "file_extension": ".py",
   "mimetype": "text/x-python",
   "name": "python",
   "nbconvert_exporter": "python",
   "pygments_lexer": "ipython3",
   "version": "3.1.undefined"
  }
 },
 "nbformat": 4,
 "nbformat_minor": 4
}
