{
 "cells": [
  {
   "cell_type": "code",
   "execution_count": 1,
   "metadata": {
    "collapsed": false,
    "jupyter": {
     "outputs_hidden": false
    },
    "pycharm": {
     "name": "#%%\n"
    }
   },
   "outputs": [],
   "source": [
    "import pickle, sys\n",
    "import numpy as np\n",
    "import pandas as pd\n",
    "\n",
    "from sklearn.decomposition import PCA\n",
    "from sklearn.preprocessing import MinMaxScaler\n",
    "from sklearn.gaussian_process import GaussianProcessRegressor\n",
    "from sklearn.gaussian_process.kernels import ConstantKernel, Matern"
   ]
  },
  {
   "cell_type": "code",
   "execution_count": 2,
   "metadata": {},
   "outputs": [],
   "source": [
    "sys.path.append('../src')\n",
    "import data_pretreatment\n",
    "import BayesOpt as bo"
   ]
  },
  {
   "cell_type": "markdown",
   "metadata": {
    "pycharm": {
     "name": "#%% md\n"
    }
   },
   "source": [
    "# 1 Init-selection of CNPs"
   ]
  },
  {
   "cell_type": "code",
   "execution_count": 93,
   "metadata": {},
   "outputs": [],
   "source": [
    "dft_data_path = '../data/560_DFT_result.xlsx'\n",
    "exp_data_path = '../data/opt_cnps/exp_data_steps.xlsx'\n",
    "dft_df = pd.read_excel(dft_data_path, index_col='ID')\n",
    "# Remove error data of DFT features until fixed\n",
    "dft_df = dft_df.drop([110, 494, 75, 459], axis=0)\n",
    "# Descriptors transform\n",
    "origin_features = dft_df.loc[:, 'IP':'S1-T1'].to_numpy()\n",
    "# Descriptors rescaling and PCA calculation\n",
    "pca = PCA(n_components=5)\n",
    "pca_features = MinMaxScaler().fit_transform(pca.fit_transform(origin_features))"
   ]
  },
  {
   "cell_type": "code",
   "execution_count": 97,
   "metadata": {},
   "outputs": [
    {
     "data": {
      "text/html": [
       "<div>\n",
       "<style scoped>\n",
       "    .dataframe tbody tr th:only-of-type {\n",
       "        vertical-align: middle;\n",
       "    }\n",
       "\n",
       "    .dataframe tbody tr th {\n",
       "        vertical-align: top;\n",
       "    }\n",
       "\n",
       "    .dataframe thead th {\n",
       "        text-align: right;\n",
       "    }\n",
       "</style>\n",
       "<table border=\"1\" class=\"dataframe\">\n",
       "  <thead>\n",
       "    <tr style=\"text-align: right;\">\n",
       "      <th></th>\n",
       "      <th>name</th>\n",
       "      <th>smiles</th>\n",
       "      <th>IP</th>\n",
       "      <th>EA</th>\n",
       "    </tr>\n",
       "    <tr>\n",
       "      <th>ID</th>\n",
       "      <th></th>\n",
       "      <th></th>\n",
       "      <th></th>\n",
       "      <th></th>\n",
       "    </tr>\n",
       "  </thead>\n",
       "  <tbody>\n",
       "    <tr>\n",
       "      <th>3</th>\n",
       "      <td>Ra01_Rb004</td>\n",
       "      <td>N#Cc1c(-c2ccccc2)nc(-c2ccccc2)c(C#N)c1-c1c2ccc...</td>\n",
       "      <td>0.867341</td>\n",
       "      <td>-1.923257</td>\n",
       "    </tr>\n",
       "    <tr>\n",
       "      <th>65</th>\n",
       "      <td>Ra03_Rb010</td>\n",
       "      <td>N#Cc1ccc(-c2nc(-c3ccc(C#N)cc3)c(C#N)c(-c3ccc(N...</td>\n",
       "      <td>0.564757</td>\n",
       "      <td>-1.635845</td>\n",
       "    </tr>\n",
       "    <tr>\n",
       "      <th>261</th>\n",
       "      <td>Ra10_Rb010</td>\n",
       "      <td>N#Cc1ccc(-c2ccc(-c3nc(-c4ccc(-c5ccc(C#N)cc5)cc...</td>\n",
       "      <td>0.550825</td>\n",
       "      <td>-1.853265</td>\n",
       "    </tr>\n",
       "    <tr>\n",
       "      <th>87</th>\n",
       "      <td>Ra04_Rb004</td>\n",
       "      <td>N#Cc1c(-c2ccc(Br)cc2)nc(-c2ccc(Br)cc2)c(C#N)c1...</td>\n",
       "      <td>0.873042</td>\n",
       "      <td>-1.804753</td>\n",
       "    </tr>\n",
       "    <tr>\n",
       "      <th>129</th>\n",
       "      <td>Ra05_Rb018</td>\n",
       "      <td>Cc1ccc(-c2nc(-c3ccc(C)cc3)c(C#N)c(-c3ccc4c(c3)...</td>\n",
       "      <td>1.035164</td>\n",
       "      <td>-1.982793</td>\n",
       "    </tr>\n",
       "  </tbody>\n",
       "</table>\n",
       "</div>"
      ],
      "text/plain": [
       "           name                                             smiles        IP  \\\n",
       "ID                                                                             \n",
       "3    Ra01_Rb004  N#Cc1c(-c2ccccc2)nc(-c2ccccc2)c(C#N)c1-c1c2ccc...  0.867341   \n",
       "65   Ra03_Rb010  N#Cc1ccc(-c2nc(-c3ccc(C#N)cc3)c(C#N)c(-c3ccc(N...  0.564757   \n",
       "261  Ra10_Rb010  N#Cc1ccc(-c2ccc(-c3nc(-c4ccc(-c5ccc(C#N)cc5)cc...  0.550825   \n",
       "87   Ra04_Rb004  N#Cc1c(-c2ccc(Br)cc2)nc(-c2ccc(Br)cc2)c(C#N)c1...  0.873042   \n",
       "129  Ra05_Rb018  Cc1ccc(-c2nc(-c3ccc(C)cc3)c(C#N)c(-c3ccc4c(c3)...  1.035164   \n",
       "\n",
       "           EA  \n",
       "ID             \n",
       "3   -1.923257  \n",
       "65  -1.635845  \n",
       "261 -1.853265  \n",
       "87  -1.804753  \n",
       "129 -1.982793  "
      ]
     },
     "execution_count": 97,
     "metadata": {},
     "output_type": "execute_result"
    }
   ],
   "source": [
    "# Calculating the distance matrix and using KS algorithm to pick diversity selection\n",
    "distance_matrix = data_pretreatment.cal_euclidean_matrix(pca_features)\n",
    "selected_df = dft_df.loc[data_pretreatment.ks_selection(distance_matrix, n_examples=20), :]\n",
    "selected_df.iloc[:5, :4]"
   ]
  },
  {
   "cell_type": "code",
   "execution_count": 98,
   "metadata": {},
   "outputs": [],
   "source": [
    "# Save suggestion\n",
    "selected_df.iloc[:, :2].to_excel('../data/opt_cnps/suggested_cnps2.xlsx', sheet_name='step_0')"
   ]
  },
  {
   "cell_type": "markdown",
   "metadata": {
    "pycharm": {
     "name": "#%% md\n"
    }
   },
   "source": [
    "# 2 Bayes optimisation"
   ]
  },
  {
   "cell_type": "markdown",
   "metadata": {},
   "source": [
    "## 2.1 Data pretreatments"
   ]
  },
  {
   "cell_type": "code",
   "execution_count": 100,
   "metadata": {},
   "outputs": [
    {
     "data": {
      "text/html": [
       "<div>\n",
       "<style scoped>\n",
       "    .dataframe tbody tr th:only-of-type {\n",
       "        vertical-align: middle;\n",
       "    }\n",
       "\n",
       "    .dataframe tbody tr th {\n",
       "        vertical-align: top;\n",
       "    }\n",
       "\n",
       "    .dataframe thead th {\n",
       "        text-align: right;\n",
       "    }\n",
       "</style>\n",
       "<table border=\"1\" class=\"dataframe\">\n",
       "  <thead>\n",
       "    <tr style=\"text-align: right;\">\n",
       "      <th></th>\n",
       "      <th>name</th>\n",
       "      <th>smiles</th>\n",
       "      <th>yield</th>\n",
       "    </tr>\n",
       "    <tr>\n",
       "      <th>ID</th>\n",
       "      <th></th>\n",
       "      <th></th>\n",
       "      <th></th>\n",
       "    </tr>\n",
       "  </thead>\n",
       "  <tbody>\n",
       "    <tr>\n",
       "      <th>3</th>\n",
       "      <td>Ra01_Rb004</td>\n",
       "      <td>N#Cc1c(-c2ccccc2)nc(-c2ccccc2)c(C#N)c1-c1c2ccc...</td>\n",
       "      <td>0.000000</td>\n",
       "    </tr>\n",
       "    <tr>\n",
       "      <th>65</th>\n",
       "      <td>Ra03_Rb010</td>\n",
       "      <td>N#Cc1ccc(-c2nc(-c3ccc(C#N)cc3)c(C#N)c(-c3ccc(N...</td>\n",
       "      <td>7.000000</td>\n",
       "    </tr>\n",
       "    <tr>\n",
       "      <th>129</th>\n",
       "      <td>Ra05_Rb018</td>\n",
       "      <td>Cc1ccc(-c2nc(-c3ccc(C)cc3)c(C#N)c(-c3ccc4c(c3)...</td>\n",
       "      <td>39.000000</td>\n",
       "    </tr>\n",
       "    <tr>\n",
       "      <th>11</th>\n",
       "      <td>Ra01_Rb012</td>\n",
       "      <td>N#Cc1c(-c2ccccc2)nc(-c2ccccc2)c(C#N)c1-c1ccc(C...</td>\n",
       "      <td>2.000000</td>\n",
       "    </tr>\n",
       "    <tr>\n",
       "      <th>336</th>\n",
       "      <td>Ra13_Rb001</td>\n",
       "      <td>N#Cc1c(-c2ccc3ccccc3c2)nc(-c2ccc3ccccc3c2)c(C#...</td>\n",
       "      <td>0.666667</td>\n",
       "    </tr>\n",
       "    <tr>\n",
       "      <th>415</th>\n",
       "      <td>Ra15_Rb024</td>\n",
       "      <td>Cc1ccc(-c2ccc(-c3c(C#N)c(-c4cccc(F)c4)nc(-c4cc...</td>\n",
       "      <td>0.000000</td>\n",
       "    </tr>\n",
       "  </tbody>\n",
       "</table>\n",
       "</div>"
      ],
      "text/plain": [
       "           name                                             smiles      yield\n",
       "ID                                                                           \n",
       "3    Ra01_Rb004  N#Cc1c(-c2ccccc2)nc(-c2ccccc2)c(C#N)c1-c1c2ccc...   0.000000\n",
       "65   Ra03_Rb010  N#Cc1ccc(-c2nc(-c3ccc(C#N)cc3)c(C#N)c(-c3ccc(N...   7.000000\n",
       "129  Ra05_Rb018  Cc1ccc(-c2nc(-c3ccc(C)cc3)c(C#N)c(-c3ccc4c(c3)...  39.000000\n",
       "11   Ra01_Rb012  N#Cc1c(-c2ccccc2)nc(-c2ccccc2)c(C#N)c1-c1ccc(C...   2.000000\n",
       "336  Ra13_Rb001  N#Cc1c(-c2ccc3ccccc3c2)nc(-c2ccc3ccccc3c2)c(C#...   0.666667\n",
       "415  Ra15_Rb024  Cc1ccc(-c2ccc(-c3c(C#N)c(-c4cccc(F)c4)nc(-c4cc...   0.000000"
      ]
     },
     "execution_count": 100,
     "metadata": {},
     "output_type": "execute_result"
    }
   ],
   "source": [
    "dft_data_path = '../data/560_DFT_result.xlsx'\n",
    "exp_data_path = '../data/opt_cnps/exp_data_steps.xlsx'\n",
    "# Load fixed dft data\n",
    "dft_df = pd.read_excel(dft_data_path, index_col='ID')\n",
    "# Experiments result of diversity selection from collaborators\n",
    "exp_df = pd.read_excel(exp_data_path, index_col='ID', sheet_name='step_0').loc[:, ['name', 'smiles', 'yield']]\n",
    "exp_df"
   ]
  },
  {
   "cell_type": "code",
   "execution_count": 101,
   "metadata": {},
   "outputs": [
    {
     "name": "stdout",
     "output_type": "stream",
     "text": [
      "Sum of variance of PCA features: 0.990\n",
      "Feature matrix after PCA: (560, 5)\n",
      "Initial evaluated points:\n",
      "x: (6, 5)\n",
      "y: (6, 1)\n"
     ]
    }
   ],
   "source": [
    "# Descriptors transform\n",
    "origin_features = dft_df.loc[:, 'IP':'S1-T1'].to_numpy()\n",
    "# Descriptors rescaling and PCA calculation\n",
    "pca = PCA(n_components=5)\n",
    "pca_features = MinMaxScaler().fit_transform(pca.fit_transform(origin_features))\n",
    "y_init = y/100\n",
    "x_init = pca_features[exp_df.index]\n",
    "print('Sum of variance of PCA features: {:.3f}'.format(sum(pca.explained_variance_ratio_)))\n",
    "print('Feature matrix after PCA: {}\\nInitial evaluated points:\\nx: {}\\ny: {}'.format(pca_features.shape, x_init.shape, y_init.shape))"
   ]
  },
  {
   "cell_type": "code",
   "execution_count": null,
   "metadata": {},
   "outputs": [],
   "source": [
    "# Save features matrix\n",
    "np.save('../data/opt_cnps/pca_features.npy', pca_features)"
   ]
  },
  {
   "cell_type": "markdown",
   "metadata": {
    "pycharm": {
     "name": "#%% md\n"
    }
   },
   "source": [
    "## 2.2 Kernel Preparation and Step 0"
   ]
  },
  {
   "cell_type": "code",
   "execution_count": 117,
   "metadata": {
    "pycharm": {
     "name": "#%%\n"
    }
   },
   "outputs": [],
   "source": [
    "# set up kernel\n",
    "def gpr_matern_kernel(param):\n",
    "    kernel = ConstantKernel(constant_value=param['constant'], constant_value_bounds=param['constant_bounds']) * \\\n",
    "    Matern(length_scale=param['length_scale'], length_scale_bounds=param['length_scale_bounds'], nu=param['nu'])\n",
    "    gpr = GaussianProcessRegressor(kernel=kernel, alpha=param['alpha'], normalize_y=False, n_restarts_optimizer=50)\n",
    "    return gpr\n",
    "# Hyper parameters\n",
    "hyper_param = {\n",
    "    'constant': 1,\n",
    "    'constant_bounds': (0.1, 5),\n",
    "    'length_scale': np.array([1., 1., 1., 1., 1.]),\n",
    "    'length_scale_bounds': (1e-4, 1e6),\n",
    "    'nu': 2.5,\n",
    "    'BO_bounds': np.array([0, 1]),\n",
    "    'alpha': 1e-4,\n",
    "    'optimizer': 'sampling',\n",
    "    'acq_func': 'UCB'\n",
    "}\n",
    "n_step = 0\n",
    "# Init the optimiser\n",
    "opt = bo.BayesOptimizer(\n",
    "    base_estimator=gpr_matern_kernel(hyper_param),\n",
    "    sampling=pca_features,\n",
    "    bounds=hyper_param['BO_bounds'],\n",
    "    acq_func=hyper_param['acq_func'],\n",
    "    optimizer=hyper_param['optimizer']\n",
    ")"
   ]
  },
  {
   "cell_type": "code",
   "execution_count": null,
   "metadata": {},
   "outputs": [],
   "source": [
    "# Generating the kappa parameters\n",
    "parallel_param = bo.kwargs_generator(mean=5, size=12)\n",
    "print(parallel_param)"
   ]
  },
  {
   "cell_type": "code",
   "execution_count": 61,
   "metadata": {
    "pycharm": {
     "name": "#%%\n"
    }
   },
   "outputs": [
    {
     "data": {
      "text/plain": [
       "0.316**2 * Matern(length_scale=[0.172, 6.02e+04, 2.66e+03, 3.85e+04, 2.45e+04], nu=2.5)"
      ]
     },
     "execution_count": 61,
     "metadata": {},
     "output_type": "execute_result"
    }
   ],
   "source": [
    "# Tell step 0 results and fitting GPs\n",
    "opt.tell(x_init, y_init)\n",
    "opt.base_estimator.kernel_"
   ]
  },
  {
   "cell_type": "code",
   "execution_count": 77,
   "metadata": {
    "pycharm": {
     "name": "#%%\n"
    }
   },
   "outputs": [
    {
     "data": {
      "text/html": [
       "<div>\n",
       "<style scoped>\n",
       "    .dataframe tbody tr th:only-of-type {\n",
       "        vertical-align: middle;\n",
       "    }\n",
       "\n",
       "    .dataframe tbody tr th {\n",
       "        vertical-align: top;\n",
       "    }\n",
       "\n",
       "    .dataframe thead th {\n",
       "        text-align: right;\n",
       "    }\n",
       "</style>\n",
       "<table border=\"1\" class=\"dataframe\">\n",
       "  <thead>\n",
       "    <tr style=\"text-align: right;\">\n",
       "      <th></th>\n",
       "      <th>name</th>\n",
       "      <th>SMILE</th>\n",
       "      <th>kappa</th>\n",
       "    </tr>\n",
       "    <tr>\n",
       "      <th>ID</th>\n",
       "      <th></th>\n",
       "      <th></th>\n",
       "      <th></th>\n",
       "    </tr>\n",
       "  </thead>\n",
       "  <tbody>\n",
       "    <tr>\n",
       "      <th>466</th>\n",
       "      <td>Ra17_Rb019</td>\n",
       "      <td>COc1ccc(N(c2ccc(OC)cc2)c2ccc(-c3c(C#N)c(-c4ccc...</td>\n",
       "      <td>0.602053</td>\n",
       "    </tr>\n",
       "    <tr>\n",
       "      <th>439</th>\n",
       "      <td>Ra16_Rb020</td>\n",
       "      <td>N#Cc1c(-c2cccc(Cl)c2)nc(-c2cccc(Cl)c2)c(C#N)c1...</td>\n",
       "      <td>1.238872</td>\n",
       "    </tr>\n",
       "    <tr>\n",
       "      <th>494</th>\n",
       "      <td>Ra18_Rb019</td>\n",
       "      <td>COc1ccc(N(c2ccc(OC)cc2)c2ccc(-c3c(C#N)c(-c4ccc...</td>\n",
       "      <td>1.838194</td>\n",
       "    </tr>\n",
       "    <tr>\n",
       "      <th>441</th>\n",
       "      <td>Ra16_Rb022</td>\n",
       "      <td>Cc1ccc(-c2c(C#N)c(-c3cccc(Cl)c3)nc(-c3cccc(Cl)...</td>\n",
       "      <td>3.376701</td>\n",
       "    </tr>\n",
       "    <tr>\n",
       "      <th>77</th>\n",
       "      <td>Ra03_Rb022</td>\n",
       "      <td>Cc1ccc(-c2c(C#N)c(-c3ccc(C#N)cc3)nc(-c3ccc(C#N...</td>\n",
       "      <td>3.566519</td>\n",
       "    </tr>\n",
       "    <tr>\n",
       "      <th>189</th>\n",
       "      <td>Ra07_Rb022</td>\n",
       "      <td>Cc1ccc(-c2c(C#N)c(-c3ccc(C(F)(F)F)cc3)nc(-c3cc...</td>\n",
       "      <td>4.893857</td>\n",
       "    </tr>\n",
       "    <tr>\n",
       "      <th>372</th>\n",
       "      <td>Ra14_Rb009</td>\n",
       "      <td>COc1ccc(-c2c(C#N)c(-c3cccc(Br)c3)nc(-c3cccc(Br...</td>\n",
       "      <td>4.905171</td>\n",
       "    </tr>\n",
       "    <tr>\n",
       "      <th>176</th>\n",
       "      <td>Ra07_Rb009</td>\n",
       "      <td>COc1ccc(-c2c(C#N)c(-c3ccc(C(F)(F)F)cc3)nc(-c3c...</td>\n",
       "      <td>4.917465</td>\n",
       "    </tr>\n",
       "    <tr>\n",
       "      <th>64</th>\n",
       "      <td>Ra03_Rb009</td>\n",
       "      <td>COc1ccc(-c2c(C#N)c(-c3ccc(C#N)cc3)nc(-c3ccc(C#...</td>\n",
       "      <td>5.424689</td>\n",
       "    </tr>\n",
       "    <tr>\n",
       "      <th>379</th>\n",
       "      <td>Ra14_Rb016</td>\n",
       "      <td>CCn1c2ccccc2c2cc(-c3c(C#N)c(-c4cccc(Br)c4)nc(-...</td>\n",
       "      <td>5.762144</td>\n",
       "    </tr>\n",
       "    <tr>\n",
       "      <th>58</th>\n",
       "      <td>Ra03_Rb003</td>\n",
       "      <td>N#Cc1ccc(-c2nc(-c3ccc(C#N)cc3)c(C#N)c(-c3ccc4c...</td>\n",
       "      <td>6.796688</td>\n",
       "    </tr>\n",
       "    <tr>\n",
       "      <th>385</th>\n",
       "      <td>Ra14_Rb022</td>\n",
       "      <td>Cc1ccc(-c2c(C#N)c(-c3cccc(Br)c3)nc(-c3cccc(Br)...</td>\n",
       "      <td>7.976856</td>\n",
       "    </tr>\n",
       "  </tbody>\n",
       "</table>\n",
       "</div>"
      ],
      "text/plain": [
       "           name                                              SMILE     kappa\n",
       "ID                                                                          \n",
       "466  Ra17_Rb019  COc1ccc(N(c2ccc(OC)cc2)c2ccc(-c3c(C#N)c(-c4ccc...  0.602053\n",
       "439  Ra16_Rb020  N#Cc1c(-c2cccc(Cl)c2)nc(-c2cccc(Cl)c2)c(C#N)c1...  1.238872\n",
       "494  Ra18_Rb019  COc1ccc(N(c2ccc(OC)cc2)c2ccc(-c3c(C#N)c(-c4ccc...  1.838194\n",
       "441  Ra16_Rb022  Cc1ccc(-c2c(C#N)c(-c3cccc(Cl)c3)nc(-c3cccc(Cl)...  3.376701\n",
       "77   Ra03_Rb022  Cc1ccc(-c2c(C#N)c(-c3ccc(C#N)cc3)nc(-c3ccc(C#N...  3.566519\n",
       "189  Ra07_Rb022  Cc1ccc(-c2c(C#N)c(-c3ccc(C(F)(F)F)cc3)nc(-c3cc...  4.893857\n",
       "372  Ra14_Rb009  COc1ccc(-c2c(C#N)c(-c3cccc(Br)c3)nc(-c3cccc(Br...  4.905171\n",
       "176  Ra07_Rb009  COc1ccc(-c2c(C#N)c(-c3ccc(C(F)(F)F)cc3)nc(-c3c...  4.917465\n",
       "64   Ra03_Rb009  COc1ccc(-c2c(C#N)c(-c3ccc(C#N)cc3)nc(-c3ccc(C#...  5.424689\n",
       "379  Ra14_Rb016  CCn1c2ccccc2c2cc(-c3c(C#N)c(-c4cccc(Br)c4)nc(-...  5.762144\n",
       "58   Ra03_Rb003  N#Cc1ccc(-c2nc(-c3ccc(C#N)cc3)c(C#N)c(-c3ccc4c...  6.796688\n",
       "385  Ra14_Rb022  Cc1ccc(-c2c(C#N)c(-c3cccc(Br)c3)nc(-c3cccc(Br)...  7.976856"
      ]
     },
     "execution_count": 77,
     "metadata": {},
     "output_type": "execute_result"
    }
   ],
   "source": [
    "# Get the suggestion by BO\n",
    "opt.sampling = pca_features\n",
    "next_x = opt.parallel_ask(acq_func_args=parallel_param, num_samples=1)\n",
    "next_df = bo.get_next_df(suggested_x=next_x, parallel_param=parallel_param, \n",
    "                      samples=pca_features, df=dft_df)\n",
    "next_df"
   ]
  },
  {
   "cell_type": "code",
   "execution_count": 142,
   "metadata": {
    "pycharm": {
     "name": "#%%\n"
    }
   },
   "outputs": [],
   "source": [
    "# Append the next suggestion sheet to the original Excel file\n",
    "with pd.ExcelWriter('../data/opt_cnps/suggested_cnps.xlsx', mode='a') as excel_writer:\n",
    "    next_df.to_excel(excel_writer, sheet_name='step_{}'.format(n_step + 1))\n",
    "with open('../data/opt_cnps/photoredox_BO.pkl', 'wb') as bo_file:\n",
    "    pickle.dump(opt, file=bo_file)"
   ]
  },
  {
   "cell_type": "markdown",
   "metadata": {
    "pycharm": {
     "name": "#%% md\n"
    }
   },
   "source": [
    "## 2.2 Step 1"
   ]
  },
  {
   "cell_type": "code",
   "execution_count": 6,
   "metadata": {},
   "outputs": [
    {
     "data": {
      "text/html": [
       "<div>\n",
       "<style scoped>\n",
       "    .dataframe tbody tr th:only-of-type {\n",
       "        vertical-align: middle;\n",
       "    }\n",
       "\n",
       "    .dataframe tbody tr th {\n",
       "        vertical-align: top;\n",
       "    }\n",
       "\n",
       "    .dataframe thead th {\n",
       "        text-align: right;\n",
       "    }\n",
       "</style>\n",
       "<table border=\"1\" class=\"dataframe\">\n",
       "  <thead>\n",
       "    <tr style=\"text-align: right;\">\n",
       "      <th></th>\n",
       "      <th>name</th>\n",
       "      <th>smiles</th>\n",
       "      <th>yield</th>\n",
       "    </tr>\n",
       "    <tr>\n",
       "      <th>ID</th>\n",
       "      <th></th>\n",
       "      <th></th>\n",
       "      <th></th>\n",
       "    </tr>\n",
       "  </thead>\n",
       "  <tbody>\n",
       "    <tr>\n",
       "      <th>439</th>\n",
       "      <td>Ra16_Rb020</td>\n",
       "      <td>N#Cc1c(-c2cccc(Cl)c2)nc(-c2cccc(Cl)c2)c(C#N)c1...</td>\n",
       "      <td>10.333333</td>\n",
       "    </tr>\n",
       "    <tr>\n",
       "      <th>494</th>\n",
       "      <td>Ra18_Rb019</td>\n",
       "      <td>COc1ccc(N(c2ccc(OC)cc2)c2ccc(-c3c(C#N)c(-c4ccc...</td>\n",
       "      <td>0.000000</td>\n",
       "    </tr>\n",
       "    <tr>\n",
       "      <th>372</th>\n",
       "      <td>Ra14_Rb009</td>\n",
       "      <td>COc1ccc(-c2c(C#N)c(-c3cccc(Br)c3)nc(-c3cccc(Br...</td>\n",
       "      <td>15.333333</td>\n",
       "    </tr>\n",
       "    <tr>\n",
       "      <th>64</th>\n",
       "      <td>Ra03_Rb009</td>\n",
       "      <td>COc1ccc(-c2c(C#N)c(-c3ccc(C#N)cc3)nc(-c3ccc(C#...</td>\n",
       "      <td>3.333333</td>\n",
       "    </tr>\n",
       "    <tr>\n",
       "      <th>379</th>\n",
       "      <td>Ra14_Rb016</td>\n",
       "      <td>CCn1c2ccccc2c2cc(-c3c(C#N)c(-c4cccc(Br)c4)nc(-...</td>\n",
       "      <td>25.666667</td>\n",
       "    </tr>\n",
       "    <tr>\n",
       "      <th>58</th>\n",
       "      <td>Ra03_Rb003</td>\n",
       "      <td>N#Cc1ccc(-c2nc(-c3ccc(C#N)cc3)c(C#N)c(-c3ccc4c...</td>\n",
       "      <td>2.000000</td>\n",
       "    </tr>\n",
       "  </tbody>\n",
       "</table>\n",
       "</div>"
      ],
      "text/plain": [
       "           name                                             smiles      yield\n",
       "ID                                                                           \n",
       "439  Ra16_Rb020  N#Cc1c(-c2cccc(Cl)c2)nc(-c2cccc(Cl)c2)c(C#N)c1...  10.333333\n",
       "494  Ra18_Rb019  COc1ccc(N(c2ccc(OC)cc2)c2ccc(-c3c(C#N)c(-c4ccc...   0.000000\n",
       "372  Ra14_Rb009  COc1ccc(-c2c(C#N)c(-c3cccc(Br)c3)nc(-c3cccc(Br...  15.333333\n",
       "64   Ra03_Rb009  COc1ccc(-c2c(C#N)c(-c3ccc(C#N)cc3)nc(-c3ccc(C#...   3.333333\n",
       "379  Ra14_Rb016  CCn1c2ccccc2c2cc(-c3c(C#N)c(-c4cccc(Br)c4)nc(-...  25.666667\n",
       "58   Ra03_Rb003  N#Cc1ccc(-c2nc(-c3ccc(C#N)cc3)c(C#N)c(-c3ccc4c...   2.000000"
      ]
     },
     "execution_count": 6,
     "metadata": {},
     "output_type": "execute_result"
    }
   ],
   "source": [
    "n_step = 1\n",
    "# Loading feature matrix and experimental results\n",
    "pca_features = np.load('../data/opt_cnps/pca_features.npy')\n",
    "dft_df = pd.read_excel('../data/560_DFT_result.xlsx', index_col='ID')\n",
    "exp_data_path = '../data/opt_cnps/exp_data_steps.xlsx'\n",
    "exp_x, exp_y, exp_df = bo.load_exp_data(\n",
    "    exp_df_path=exp_data_path, sheet_name='step_{}'.format(n_step), \n",
    "    samples=pca_features, return_df=True\n",
    ")\n",
    "exp_df"
   ]
  },
  {
   "cell_type": "code",
   "execution_count": 105,
   "metadata": {
    "pycharm": {
     "name": "#%%\n"
    }
   },
   "outputs": [
    {
     "data": {
      "text/plain": [
       "{'kappa': [0.26147734257270994,\n",
       "  0.4837147598117253,\n",
       "  0.6532669005013081,\n",
       "  1.4646436405928491,\n",
       "  1.7666246735112012,\n",
       "  1.852170393328392,\n",
       "  2.1464933052188986,\n",
       "  2.8496579792000793,\n",
       "  2.95139600825862,\n",
       "  3.9807346194995956,\n",
       "  4.119257957244427,\n",
       "  7.31776580409898]}"
      ]
     },
     "execution_count": 105,
     "metadata": {},
     "output_type": "execute_result"
    }
   ],
   "source": [
    "# Next step parallel suggestion parameters\n",
    "parallel_param = bo.kwargs_generator(mean=2.5, size=12)\n",
    "parallel_param"
   ]
  },
  {
   "cell_type": "code",
   "execution_count": 114,
   "metadata": {
    "pycharm": {
     "name": "#%%\n"
    }
   },
   "outputs": [
    {
     "data": {
      "text/html": [
       "<div>\n",
       "<style scoped>\n",
       "    .dataframe tbody tr th:only-of-type {\n",
       "        vertical-align: middle;\n",
       "    }\n",
       "\n",
       "    .dataframe tbody tr th {\n",
       "        vertical-align: top;\n",
       "    }\n",
       "\n",
       "    .dataframe thead th {\n",
       "        text-align: right;\n",
       "    }\n",
       "</style>\n",
       "<table border=\"1\" class=\"dataframe\">\n",
       "  <thead>\n",
       "    <tr style=\"text-align: right;\">\n",
       "      <th></th>\n",
       "      <th>name</th>\n",
       "      <th>SMILE</th>\n",
       "      <th>kappa</th>\n",
       "    </tr>\n",
       "    <tr>\n",
       "      <th>ID</th>\n",
       "      <th></th>\n",
       "      <th></th>\n",
       "      <th></th>\n",
       "    </tr>\n",
       "  </thead>\n",
       "  <tbody>\n",
       "    <tr>\n",
       "      <th>110</th>\n",
       "      <td>Ra04_Rb027</td>\n",
       "      <td>N#Cc1c(-c2ccc(Br)cc2)nc(-c2ccc(Br)cc2)c(C#N)c1...</td>\n",
       "      <td>0.261477</td>\n",
       "    </tr>\n",
       "    <tr>\n",
       "      <th>463</th>\n",
       "      <td>Ra17_Rb016</td>\n",
       "      <td>CCn1c2ccccc2c2cc(-c3c(C#N)c(-c4cccc(OC)c4)nc(-...</td>\n",
       "      <td>0.483715</td>\n",
       "    </tr>\n",
       "    <tr>\n",
       "      <th>464</th>\n",
       "      <td>Ra17_Rb017</td>\n",
       "      <td>COc1cccc(-c2nc(-c3cccc(OC)c3)c(C#N)c(-c3ccc4c(...</td>\n",
       "      <td>0.653267</td>\n",
       "    </tr>\n",
       "    <tr>\n",
       "      <th>263</th>\n",
       "      <td>Ra10_Rb012</td>\n",
       "      <td>N#Cc1ccc(-c2ccc(-c3nc(-c4ccc(-c5ccc(C#N)cc5)cc...</td>\n",
       "      <td>1.464644</td>\n",
       "    </tr>\n",
       "    <tr>\n",
       "      <th>207</th>\n",
       "      <td>Ra08_Rb012</td>\n",
       "      <td>N#Cc1c(-c2ccc(-c3ccccc3)cc2)nc(-c2ccc(-c3ccccc...</td>\n",
       "      <td>1.766625</td>\n",
       "    </tr>\n",
       "    <tr>\n",
       "      <th>321</th>\n",
       "      <td>Ra12_Rb014</td>\n",
       "      <td>Cc1cccc(-c2nc(-c3cccc(C)c3)c(C#N)c(-c3ccc(-c4c...</td>\n",
       "      <td>1.852170</td>\n",
       "    </tr>\n",
       "    <tr>\n",
       "      <th>293</th>\n",
       "      <td>Ra11_Rb014</td>\n",
       "      <td>N#Cc1c(-c2ccc(Cl)cc2)nc(-c2ccc(Cl)cc2)c(C#N)c1...</td>\n",
       "      <td>2.146493</td>\n",
       "    </tr>\n",
       "    <tr>\n",
       "      <th>69</th>\n",
       "      <td>Ra03_Rb014</td>\n",
       "      <td>N#Cc1ccc(-c2nc(-c3ccc(C#N)cc3)c(C#N)c(-c3ccc(-...</td>\n",
       "      <td>2.849658</td>\n",
       "    </tr>\n",
       "    <tr>\n",
       "      <th>97</th>\n",
       "      <td>Ra04_Rb014</td>\n",
       "      <td>N#Cc1c(-c2ccc(Br)cc2)nc(-c2ccc(Br)cc2)c(C#N)c1...</td>\n",
       "      <td>2.951396</td>\n",
       "    </tr>\n",
       "    <tr>\n",
       "      <th>153</th>\n",
       "      <td>Ra06_Rb014</td>\n",
       "      <td>N#Cc1c(-c2ccc(F)cc2)nc(-c2ccc(F)cc2)c(C#N)c1-c...</td>\n",
       "      <td>3.980735</td>\n",
       "    </tr>\n",
       "    <tr>\n",
       "      <th>13</th>\n",
       "      <td>Ra01_Rb014</td>\n",
       "      <td>N#Cc1c(-c2ccccc2)nc(-c2ccccc2)c(C#N)c1-c1ccc(-...</td>\n",
       "      <td>4.119258</td>\n",
       "    </tr>\n",
       "    <tr>\n",
       "      <th>559</th>\n",
       "      <td>Ra21_Rb028</td>\n",
       "      <td>N#Cc1ccc(-c2ccc(-c3c(C#N)c(-c4cccc(C(F)(F)F)c4...</td>\n",
       "      <td>7.317766</td>\n",
       "    </tr>\n",
       "  </tbody>\n",
       "</table>\n",
       "</div>"
      ],
      "text/plain": [
       "           name                                              SMILE     kappa\n",
       "ID                                                                          \n",
       "110  Ra04_Rb027  N#Cc1c(-c2ccc(Br)cc2)nc(-c2ccc(Br)cc2)c(C#N)c1...  0.261477\n",
       "463  Ra17_Rb016  CCn1c2ccccc2c2cc(-c3c(C#N)c(-c4cccc(OC)c4)nc(-...  0.483715\n",
       "464  Ra17_Rb017  COc1cccc(-c2nc(-c3cccc(OC)c3)c(C#N)c(-c3ccc4c(...  0.653267\n",
       "263  Ra10_Rb012  N#Cc1ccc(-c2ccc(-c3nc(-c4ccc(-c5ccc(C#N)cc5)cc...  1.464644\n",
       "207  Ra08_Rb012  N#Cc1c(-c2ccc(-c3ccccc3)cc2)nc(-c2ccc(-c3ccccc...  1.766625\n",
       "321  Ra12_Rb014  Cc1cccc(-c2nc(-c3cccc(C)c3)c(C#N)c(-c3ccc(-c4c...  1.852170\n",
       "293  Ra11_Rb014  N#Cc1c(-c2ccc(Cl)cc2)nc(-c2ccc(Cl)cc2)c(C#N)c1...  2.146493\n",
       "69   Ra03_Rb014  N#Cc1ccc(-c2nc(-c3ccc(C#N)cc3)c(C#N)c(-c3ccc(-...  2.849658\n",
       "97   Ra04_Rb014  N#Cc1c(-c2ccc(Br)cc2)nc(-c2ccc(Br)cc2)c(C#N)c1...  2.951396\n",
       "153  Ra06_Rb014  N#Cc1c(-c2ccc(F)cc2)nc(-c2ccc(F)cc2)c(C#N)c1-c...  3.980735\n",
       "13   Ra01_Rb014  N#Cc1c(-c2ccccc2)nc(-c2ccccc2)c(C#N)c1-c1ccc(-...  4.119258\n",
       "559  Ra21_Rb028  N#Cc1ccc(-c2ccc(-c3c(C#N)c(-c4cccc(C(F)(F)F)c4...  7.317766"
      ]
     },
     "execution_count": 114,
     "metadata": {},
     "output_type": "execute_result"
    }
   ],
   "source": [
    "# Load previous BO_object\n",
    "with open('../data/opt_cnps/photoredox_BO.pkl', 'rb') as bo_file:\n",
    "    opt = pickle.load(bo_file)\n",
    "# Tell experimental results and fitting the GPs\n",
    "opt.tell(x=exp_x, y=exp_y)\n",
    "# Get the suggestion by Bayesian optimization\n",
    "opt.sampling = pca_features\n",
    "next_x = opt.parallel_ask(acq_func_args=parallel_param, num_samples=1)\n",
    "next_df = bo.get_next_df(suggested_x=next_x, parallel_param=parallel_param, \n",
    "                      samples=pca_features, df=dft_df)\n",
    "next_df"
   ]
  },
  {
   "cell_type": "code",
   "execution_count": 158,
   "metadata": {
    "pycharm": {
     "name": "#%%\n"
    }
   },
   "outputs": [],
   "source": [
    "# Append the next suggestion sheet to the original Excel file\n",
    "with pd.ExcelWriter('../data/opt_cnps/suggested_cnps.xlsx', mode='a') as excel_writer:\n",
    "    next_df.to_excel(excel_writer, sheet_name='step_{}'.format(n_step + 1))\n",
    "with open('../data/opt_cnps/photoredox_BO.pkl', 'wb') as bo_file:\n",
    "    pickle.dump(opt, file=bo_file)"
   ]
  },
  {
   "cell_type": "markdown",
   "metadata": {
    "pycharm": {
     "name": "#%% md\n"
    }
   },
   "source": [
    "## 2.3 Step 2"
   ]
  },
  {
   "cell_type": "code",
   "execution_count": 7,
   "metadata": {
    "pycharm": {
     "name": "#%%\n"
    }
   },
   "outputs": [
    {
     "data": {
      "text/html": [
       "<div>\n",
       "<style scoped>\n",
       "    .dataframe tbody tr th:only-of-type {\n",
       "        vertical-align: middle;\n",
       "    }\n",
       "\n",
       "    .dataframe tbody tr th {\n",
       "        vertical-align: top;\n",
       "    }\n",
       "\n",
       "    .dataframe thead th {\n",
       "        text-align: right;\n",
       "    }\n",
       "</style>\n",
       "<table border=\"1\" class=\"dataframe\">\n",
       "  <thead>\n",
       "    <tr style=\"text-align: right;\">\n",
       "      <th></th>\n",
       "      <th>name</th>\n",
       "      <th>smiles</th>\n",
       "      <th>yield</th>\n",
       "    </tr>\n",
       "    <tr>\n",
       "      <th>ID</th>\n",
       "      <th></th>\n",
       "      <th></th>\n",
       "      <th></th>\n",
       "    </tr>\n",
       "  </thead>\n",
       "  <tbody>\n",
       "    <tr>\n",
       "      <th>110</th>\n",
       "      <td>Ra04_Rb027</td>\n",
       "      <td>N#Cc1c(-c2ccc(Br)cc2)nc(-c2ccc(Br)cc2)c(C#N)c1...</td>\n",
       "      <td>0.666667</td>\n",
       "    </tr>\n",
       "    <tr>\n",
       "      <th>463</th>\n",
       "      <td>Ra17_Rb016</td>\n",
       "      <td>CCn1c2ccccc2c2cc(-c3c(C#N)c(-c4cccc(OC)c4)nc(-...</td>\n",
       "      <td>48.666667</td>\n",
       "    </tr>\n",
       "    <tr>\n",
       "      <th>207</th>\n",
       "      <td>Ra08_Rb012</td>\n",
       "      <td>N#Cc1c(-c2ccc(-c3ccccc3)cc2)nc(-c2ccc(-c3ccccc...</td>\n",
       "      <td>0.000000</td>\n",
       "    </tr>\n",
       "    <tr>\n",
       "      <th>69</th>\n",
       "      <td>Ra03_Rb014</td>\n",
       "      <td>N#Cc1ccc(-c2nc(-c3ccc(C#N)cc3)c(C#N)c(-c3ccc(-...</td>\n",
       "      <td>2.000000</td>\n",
       "    </tr>\n",
       "    <tr>\n",
       "      <th>13</th>\n",
       "      <td>Ra01_Rb014</td>\n",
       "      <td>N#Cc1c(-c2ccccc2)nc(-c2ccccc2)c(C#N)c1-c1ccc(-...</td>\n",
       "      <td>0.000000</td>\n",
       "    </tr>\n",
       "    <tr>\n",
       "      <th>559</th>\n",
       "      <td>Ra21_Rb028</td>\n",
       "      <td>N#Cc1ccc(-c2ccc(-c3c(C#N)c(-c4cccc(C(F)(F)F)c4...</td>\n",
       "      <td>1.000000</td>\n",
       "    </tr>\n",
       "  </tbody>\n",
       "</table>\n",
       "</div>"
      ],
      "text/plain": [
       "           name                                             smiles      yield\n",
       "ID                                                                           \n",
       "110  Ra04_Rb027  N#Cc1c(-c2ccc(Br)cc2)nc(-c2ccc(Br)cc2)c(C#N)c1...   0.666667\n",
       "463  Ra17_Rb016  CCn1c2ccccc2c2cc(-c3c(C#N)c(-c4cccc(OC)c4)nc(-...  48.666667\n",
       "207  Ra08_Rb012  N#Cc1c(-c2ccc(-c3ccccc3)cc2)nc(-c2ccc(-c3ccccc...   0.000000\n",
       "69   Ra03_Rb014  N#Cc1ccc(-c2nc(-c3ccc(C#N)cc3)c(C#N)c(-c3ccc(-...   2.000000\n",
       "13   Ra01_Rb014  N#Cc1c(-c2ccccc2)nc(-c2ccccc2)c(C#N)c1-c1ccc(-...   0.000000\n",
       "559  Ra21_Rb028  N#Cc1ccc(-c2ccc(-c3c(C#N)c(-c4cccc(C(F)(F)F)c4...   1.000000"
      ]
     },
     "execution_count": 7,
     "metadata": {},
     "output_type": "execute_result"
    }
   ],
   "source": [
    "n_step = 2\n",
    "# Loading feature matrix and experimental results\n",
    "pca_features = np.load('../data/opt_cnps/pca_features.npy')\n",
    "dft_df = pd.read_excel('../data/560_DFT_result.xlsx', index_col='ID')\n",
    "exp_data_path = '../data/opt_cnps/exp_data_steps.xlsx'\n",
    "exp_x, exp_y, exp_df = bo.load_exp_data(\n",
    "    exp_df_path=exp_data_path, sheet_name='step_{}'.format(n_step), \n",
    "    samples=pca_features, return_df=True\n",
    ")\n",
    "exp_df"
   ]
  },
  {
   "cell_type": "code",
   "execution_count": 48,
   "metadata": {
    "pycharm": {
     "name": "#%%\n"
    }
   },
   "outputs": [
    {
     "data": {
      "text/plain": [
       "{'kappa': [0.6747718851721768,\n",
       "  0.7111855852527105,\n",
       "  1.2475096429607242,\n",
       "  1.261152794223848,\n",
       "  2.02483320242886,\n",
       "  2.5175981221321138,\n",
       "  2.8769931290266726,\n",
       "  3.1477716805522373,\n",
       "  3.8062273853060598,\n",
       "  4.293332641560919,\n",
       "  5.522346926734617,\n",
       "  16.370051739350757]}"
      ]
     },
     "execution_count": 48,
     "metadata": {},
     "output_type": "execute_result"
    }
   ],
   "source": [
    "# Next step parallel suggestion parameters\n",
    "parallel_param = bo.kwargs_generator(mean=2.5, size=12)\n",
    "parallel_param"
   ]
  },
  {
   "cell_type": "code",
   "execution_count": 28,
   "metadata": {
    "pycharm": {
     "name": "#%%\n"
    }
   },
   "outputs": [
    {
     "data": {
      "text/plain": [
       "0.316**2 * Matern(length_scale=[0.441, 0.652, 2.61e+03, 0.347, 0.804], nu=2.5)"
      ]
     },
     "execution_count": 28,
     "metadata": {},
     "output_type": "execute_result"
    }
   ],
   "source": [
    "# Load previous BO_object\n",
    "with open('../data/opt_cnps/photoredox_BO.pkl', 'rb') as bo_file:\n",
    "    opt = pickle.load(bo_file)\n",
    "# Tell experimental results and fitting the GPs\n",
    "opt.tell(x=exp_x, y=exp_y)\n",
    "opt.base_estimator.kernel_"
   ]
  },
  {
   "cell_type": "code",
   "execution_count": 90,
   "metadata": {
    "pycharm": {
     "name": "#%%\n"
    }
   },
   "outputs": [
    {
     "data": {
      "text/html": [
       "<div>\n",
       "<style scoped>\n",
       "    .dataframe tbody tr th:only-of-type {\n",
       "        vertical-align: middle;\n",
       "    }\n",
       "\n",
       "    .dataframe tbody tr th {\n",
       "        vertical-align: top;\n",
       "    }\n",
       "\n",
       "    .dataframe thead th {\n",
       "        text-align: right;\n",
       "    }\n",
       "</style>\n",
       "<table border=\"1\" class=\"dataframe\">\n",
       "  <thead>\n",
       "    <tr style=\"text-align: right;\">\n",
       "      <th></th>\n",
       "      <th>name</th>\n",
       "      <th>SMILE</th>\n",
       "      <th>kappa</th>\n",
       "      <th>mean</th>\n",
       "    </tr>\n",
       "  </thead>\n",
       "  <tbody>\n",
       "    <tr>\n",
       "      <th>302</th>\n",
       "      <td>Ra11_Rb023</td>\n",
       "      <td>CN(c1ccccc1)c1ccc(-c2c(C#N)c(-c3ccc(Cl)cc3)nc(...</td>\n",
       "      <td>0.674772</td>\n",
       "      <td>0.503823</td>\n",
       "    </tr>\n",
       "    <tr>\n",
       "      <th>554</th>\n",
       "      <td>Ra21_Rb023</td>\n",
       "      <td>CN(c1ccccc1)c1ccc(-c2c(C#N)c(-c3cccc(C(F)(F)F)...</td>\n",
       "      <td>0.711186</td>\n",
       "      <td>0.488488</td>\n",
       "    </tr>\n",
       "    <tr>\n",
       "      <th>50</th>\n",
       "      <td>Ra02_Rb023</td>\n",
       "      <td>CN(c1ccccc1)c1ccc(-c2c(C#N)c(-c3cccc(C#N)c3)nc...</td>\n",
       "      <td>1.247510</td>\n",
       "      <td>0.490376</td>\n",
       "    </tr>\n",
       "    <tr>\n",
       "      <th>190</th>\n",
       "      <td>Ra07_Rb023</td>\n",
       "      <td>CN(c1ccccc1)c1ccc(-c2c(C#N)c(-c3ccc(C(F)(F)F)c...</td>\n",
       "      <td>1.261153</td>\n",
       "      <td>0.490311</td>\n",
       "    </tr>\n",
       "    <tr>\n",
       "      <th>386</th>\n",
       "      <td>Ra14_Rb023</td>\n",
       "      <td>CN(c1ccccc1)c1ccc(-c2c(C#N)c(-c3cccc(Br)c3)nc(...</td>\n",
       "      <td>2.024833</td>\n",
       "      <td>0.465571</td>\n",
       "    </tr>\n",
       "    <tr>\n",
       "      <th>333</th>\n",
       "      <td>Ra12_Rb026</td>\n",
       "      <td>Cc1ccc(N(c2ccc(C)cc2)c2ccc(-c3c(C#N)c(-c4cccc(...</td>\n",
       "      <td>2.517598</td>\n",
       "      <td>0.358421</td>\n",
       "    </tr>\n",
       "    <tr>\n",
       "      <th>193</th>\n",
       "      <td>Ra07_Rb026</td>\n",
       "      <td>Cc1ccc(N(c2ccc(C)cc2)c2ccc(-c3c(C#N)c(-c4ccc(C...</td>\n",
       "      <td>2.876993</td>\n",
       "      <td>0.350998</td>\n",
       "    </tr>\n",
       "    <tr>\n",
       "      <th>137</th>\n",
       "      <td>Ra05_Rb026</td>\n",
       "      <td>Cc1ccc(-c2nc(-c3ccc(C)cc3)c(C#N)c(-c3ccc(N(c4c...</td>\n",
       "      <td>3.147772</td>\n",
       "      <td>0.338061</td>\n",
       "    </tr>\n",
       "    <tr>\n",
       "      <th>473</th>\n",
       "      <td>Ra17_Rb026</td>\n",
       "      <td>COc1cccc(-c2nc(-c3cccc(OC)c3)c(C#N)c(-c3ccc(N(...</td>\n",
       "      <td>3.806227</td>\n",
       "      <td>0.338125</td>\n",
       "    </tr>\n",
       "    <tr>\n",
       "      <th>417</th>\n",
       "      <td>Ra15_Rb026</td>\n",
       "      <td>Cc1ccc(N(c2ccc(C)cc2)c2ccc(-c3c(C#N)c(-c4cccc(...</td>\n",
       "      <td>4.293333</td>\n",
       "      <td>0.335614</td>\n",
       "    </tr>\n",
       "    <tr>\n",
       "      <th>75</th>\n",
       "      <td>Ra03_Rb020</td>\n",
       "      <td>N#Cc1ccc(-c2nc(-c3ccc(C#N)cc3)c(C#N)c(-c3ccc(-...</td>\n",
       "      <td>5.522347</td>\n",
       "      <td>-0.004748</td>\n",
       "    </tr>\n",
       "    <tr>\n",
       "      <th>131</th>\n",
       "      <td>Ra05_Rb020</td>\n",
       "      <td>Cc1ccc(-c2nc(-c3ccc(C)cc3)c(C#N)c(-c3ccc(-n4c5...</td>\n",
       "      <td>16.370052</td>\n",
       "      <td>0.012830</td>\n",
       "    </tr>\n",
       "  </tbody>\n",
       "</table>\n",
       "</div>"
      ],
      "text/plain": [
       "           name                                              SMILE      kappa  \\\n",
       "302  Ra11_Rb023  CN(c1ccccc1)c1ccc(-c2c(C#N)c(-c3ccc(Cl)cc3)nc(...   0.674772   \n",
       "554  Ra21_Rb023  CN(c1ccccc1)c1ccc(-c2c(C#N)c(-c3cccc(C(F)(F)F)...   0.711186   \n",
       "50   Ra02_Rb023  CN(c1ccccc1)c1ccc(-c2c(C#N)c(-c3cccc(C#N)c3)nc...   1.247510   \n",
       "190  Ra07_Rb023  CN(c1ccccc1)c1ccc(-c2c(C#N)c(-c3ccc(C(F)(F)F)c...   1.261153   \n",
       "386  Ra14_Rb023  CN(c1ccccc1)c1ccc(-c2c(C#N)c(-c3cccc(Br)c3)nc(...   2.024833   \n",
       "333  Ra12_Rb026  Cc1ccc(N(c2ccc(C)cc2)c2ccc(-c3c(C#N)c(-c4cccc(...   2.517598   \n",
       "193  Ra07_Rb026  Cc1ccc(N(c2ccc(C)cc2)c2ccc(-c3c(C#N)c(-c4ccc(C...   2.876993   \n",
       "137  Ra05_Rb026  Cc1ccc(-c2nc(-c3ccc(C)cc3)c(C#N)c(-c3ccc(N(c4c...   3.147772   \n",
       "473  Ra17_Rb026  COc1cccc(-c2nc(-c3cccc(OC)c3)c(C#N)c(-c3ccc(N(...   3.806227   \n",
       "417  Ra15_Rb026  Cc1ccc(N(c2ccc(C)cc2)c2ccc(-c3c(C#N)c(-c4cccc(...   4.293333   \n",
       "75   Ra03_Rb020  N#Cc1ccc(-c2nc(-c3ccc(C#N)cc3)c(C#N)c(-c3ccc(-...   5.522347   \n",
       "131  Ra05_Rb020  Cc1ccc(-c2nc(-c3ccc(C)cc3)c(C#N)c(-c3ccc(-n4c5...  16.370052   \n",
       "\n",
       "         mean  \n",
       "302  0.503823  \n",
       "554  0.488488  \n",
       "50   0.490376  \n",
       "190  0.490311  \n",
       "386  0.465571  \n",
       "333  0.358421  \n",
       "193  0.350998  \n",
       "137  0.338061  \n",
       "473  0.338125  \n",
       "417  0.335614  \n",
       "75  -0.004748  \n",
       "131  0.012830  "
      ]
     },
     "execution_count": 90,
     "metadata": {},
     "output_type": "execute_result"
    }
   ],
   "source": [
    "# Get the suggestion\n",
    "opt.sampling = pca_features\n",
    "next_x = opt.parallel_ask(acq_func_args=parallel_param, num_samples=1)\n",
    "next_df = bo.get_next_df(suggested_x=next_x, parallel_param=parallel_param, \n",
    "                      samples=pca_features, df=dft_df)\n",
    "next_df = next_df.reindex(columns=['name', 'SMILE', 'kappa', 'mean'])\n",
    "x = np.array(next_x).reshape(-1, 5)\n",
    "# Get the mean values from GPs\n",
    "next_df.loc[:, 'mean'] = list(opt.base_estimator.predict(X=x).reshape(-1,))\n",
    "next_df"
   ]
  },
  {
   "cell_type": "code",
   "execution_count": 92,
   "metadata": {
    "pycharm": {
     "name": "#%%\n"
    }
   },
   "outputs": [],
   "source": [
    "# Append the next suggestion sheet to the original Excel file\n",
    "with pd.ExcelWriter('../data/opt_cnps/suggested_cnps.xlsx', mode='a') as excel_writer:\n",
    "    next_df.to_excel(excel_writer, sheet_name='step_{}'.format(n_step + 1))\n",
    "with open('../data/opt_cnps/photoredox_BO.pkl', 'wb') as bo_file:\n",
    "    pickle.dump(opt, file=bo_file)"
   ]
  },
  {
   "cell_type": "markdown",
   "metadata": {
    "pycharm": {
     "name": "#%% md\n"
    }
   },
   "source": [
    "## 2.4 Step 3"
   ]
  },
  {
   "cell_type": "code",
   "execution_count": 8,
   "metadata": {
    "pycharm": {
     "name": "#%%\n"
    }
   },
   "outputs": [
    {
     "data": {
      "text/html": [
       "<div>\n",
       "<style scoped>\n",
       "    .dataframe tbody tr th:only-of-type {\n",
       "        vertical-align: middle;\n",
       "    }\n",
       "\n",
       "    .dataframe tbody tr th {\n",
       "        vertical-align: top;\n",
       "    }\n",
       "\n",
       "    .dataframe thead th {\n",
       "        text-align: right;\n",
       "    }\n",
       "</style>\n",
       "<table border=\"1\" class=\"dataframe\">\n",
       "  <thead>\n",
       "    <tr style=\"text-align: right;\">\n",
       "      <th></th>\n",
       "      <th>name</th>\n",
       "      <th>smiles</th>\n",
       "      <th>yield</th>\n",
       "    </tr>\n",
       "    <tr>\n",
       "      <th>ID</th>\n",
       "      <th></th>\n",
       "      <th></th>\n",
       "      <th></th>\n",
       "    </tr>\n",
       "  </thead>\n",
       "  <tbody>\n",
       "    <tr>\n",
       "      <th>110</th>\n",
       "      <td>Ra04_Rb027</td>\n",
       "      <td>N#Cc1c(-c2ccc(Br)cc2)nc(-c2ccc(Br)cc2)c(C#N)c1...</td>\n",
       "      <td>0.666667</td>\n",
       "    </tr>\n",
       "    <tr>\n",
       "      <th>463</th>\n",
       "      <td>Ra17_Rb016</td>\n",
       "      <td>CCn1c2ccccc2c2cc(-c3c(C#N)c(-c4cccc(OC)c4)nc(-...</td>\n",
       "      <td>48.666667</td>\n",
       "    </tr>\n",
       "    <tr>\n",
       "      <th>207</th>\n",
       "      <td>Ra08_Rb012</td>\n",
       "      <td>N#Cc1c(-c2ccc(-c3ccccc3)cc2)nc(-c2ccc(-c3ccccc...</td>\n",
       "      <td>0.000000</td>\n",
       "    </tr>\n",
       "    <tr>\n",
       "      <th>69</th>\n",
       "      <td>Ra03_Rb014</td>\n",
       "      <td>N#Cc1ccc(-c2nc(-c3ccc(C#N)cc3)c(C#N)c(-c3ccc(-...</td>\n",
       "      <td>2.000000</td>\n",
       "    </tr>\n",
       "    <tr>\n",
       "      <th>13</th>\n",
       "      <td>Ra01_Rb014</td>\n",
       "      <td>N#Cc1c(-c2ccccc2)nc(-c2ccccc2)c(C#N)c1-c1ccc(-...</td>\n",
       "      <td>0.000000</td>\n",
       "    </tr>\n",
       "    <tr>\n",
       "      <th>559</th>\n",
       "      <td>Ra21_Rb028</td>\n",
       "      <td>N#Cc1ccc(-c2ccc(-c3c(C#N)c(-c4cccc(C(F)(F)F)c4...</td>\n",
       "      <td>1.000000</td>\n",
       "    </tr>\n",
       "  </tbody>\n",
       "</table>\n",
       "</div>"
      ],
      "text/plain": [
       "           name                                             smiles      yield\n",
       "ID                                                                           \n",
       "110  Ra04_Rb027  N#Cc1c(-c2ccc(Br)cc2)nc(-c2ccc(Br)cc2)c(C#N)c1...   0.666667\n",
       "463  Ra17_Rb016  CCn1c2ccccc2c2cc(-c3c(C#N)c(-c4cccc(OC)c4)nc(-...  48.666667\n",
       "207  Ra08_Rb012  N#Cc1c(-c2ccc(-c3ccccc3)cc2)nc(-c2ccc(-c3ccccc...   0.000000\n",
       "69   Ra03_Rb014  N#Cc1ccc(-c2nc(-c3ccc(C#N)cc3)c(C#N)c(-c3ccc(-...   2.000000\n",
       "13   Ra01_Rb014  N#Cc1c(-c2ccccc2)nc(-c2ccccc2)c(C#N)c1-c1ccc(-...   0.000000\n",
       "559  Ra21_Rb028  N#Cc1ccc(-c2ccc(-c3c(C#N)c(-c4cccc(C(F)(F)F)c4...   1.000000"
      ]
     },
     "execution_count": 8,
     "metadata": {},
     "output_type": "execute_result"
    }
   ],
   "source": [
    "n_steps = 3\n",
    "# Loading feature matrix and experimental results\n",
    "pca_features = np.load('../data/opt_cnps/pca_features.npy')\n",
    "dft_df = pd.read_excel('../data/560_DFT_result.xlsx', index_col='ID')\n",
    "exp_data_path = '../data/opt_cnps/exp_data_steps.xlsx'\n",
    "exp_x, exp_y, exp_df = bo.load_exp_data(\n",
    "    exp_df_path=exp_data_path, sheet_name='step_{}'.format(n_step), \n",
    "    samples=pca_features, return_df=True\n",
    ")\n",
    "exp_df"
   ]
  },
  {
   "cell_type": "code",
   "execution_count": 13,
   "metadata": {
    "pycharm": {
     "name": "#%%\n"
    }
   },
   "outputs": [
    {
     "data": {
      "text/plain": [
       "0.316**2 * Matern(length_scale=[4.15e+03, 0.278, 1.37, 5.22e+04, 0.174], nu=2.5)"
      ]
     },
     "execution_count": 13,
     "metadata": {},
     "output_type": "execute_result"
    }
   ],
   "source": [
    "# Load previous BO_object\n",
    "with open('../data/opt_cnps/photoredox_BO.pkl', 'rb') as bo_file:\n",
    "    opt = pickle.load(bo_file)\n",
    "# Tell experimental results and fitting the GPs\n",
    "opt.tell(x=exp_x, y=exp_y)\n",
    "opt.base_estimator.kernel_"
   ]
  },
  {
   "cell_type": "code",
   "execution_count": 46,
   "metadata": {
    "pycharm": {
     "name": "#%%\n"
    }
   },
   "outputs": [
    {
     "data": {
      "text/plain": [
       "{'kappa': [0.20827958019421752,\n",
       "  0.2628539344457737,\n",
       "  1.2035524867291811,\n",
       "  1.4988834920957204,\n",
       "  1.606561673882382,\n",
       "  1.7503199107686929,\n",
       "  2.266072206327105,\n",
       "  3.1657580240746315,\n",
       "  3.229847529178021,\n",
       "  3.2848465998459417,\n",
       "  4.332779383370244,\n",
       "  4.915127670014655]}"
      ]
     },
     "execution_count": 46,
     "metadata": {},
     "output_type": "execute_result"
    }
   ],
   "source": [
    "# Next step parallel suggestion parameters\n",
    "parallel_param = bo.kwargs_generator(mean=2.5, size=12)\n",
    "parallel_param"
   ]
  },
  {
   "cell_type": "code",
   "execution_count": 50,
   "metadata": {
    "pycharm": {
     "name": "#%%\n"
    }
   },
   "outputs": [
    {
     "data": {
      "text/html": [
       "<div>\n",
       "<style scoped>\n",
       "    .dataframe tbody tr th:only-of-type {\n",
       "        vertical-align: middle;\n",
       "    }\n",
       "\n",
       "    .dataframe tbody tr th {\n",
       "        vertical-align: top;\n",
       "    }\n",
       "\n",
       "    .dataframe thead th {\n",
       "        text-align: right;\n",
       "    }\n",
       "</style>\n",
       "<table border=\"1\" class=\"dataframe\">\n",
       "  <thead>\n",
       "    <tr style=\"text-align: right;\">\n",
       "      <th></th>\n",
       "      <th>name</th>\n",
       "      <th>SMILE</th>\n",
       "      <th>kappa</th>\n",
       "      <th>mean</th>\n",
       "    </tr>\n",
       "  </thead>\n",
       "  <tbody>\n",
       "    <tr>\n",
       "      <th>239</th>\n",
       "      <td>Ra09_Rb016</td>\n",
       "      <td>CCn1c2ccccc2c2cc(-c3c(C#N)c(-c4ccc(OC)cc4)nc(-...</td>\n",
       "      <td>0.208280</td>\n",
       "      <td>0.524754</td>\n",
       "    </tr>\n",
       "    <tr>\n",
       "      <th>464</th>\n",
       "      <td>Ra17_Rb017</td>\n",
       "      <td>COc1cccc(-c2nc(-c3cccc(OC)c3)c(C#N)c(-c3ccc4c(...</td>\n",
       "      <td>0.262854</td>\n",
       "      <td>0.432150</td>\n",
       "    </tr>\n",
       "    <tr>\n",
       "      <th>243</th>\n",
       "      <td>Ra09_Rb020</td>\n",
       "      <td>COc1ccc(-c2nc(-c3ccc(OC)cc3)c(C#N)c(-c3ccc(-n4...</td>\n",
       "      <td>1.203552</td>\n",
       "      <td>0.391405</td>\n",
       "    </tr>\n",
       "    <tr>\n",
       "      <th>553</th>\n",
       "      <td>Ra21_Rb022</td>\n",
       "      <td>Cc1ccc(-c2c(C#N)c(-c3cccc(C(F)(F)F)c3)nc(-c3cc...</td>\n",
       "      <td>1.498883</td>\n",
       "      <td>0.331049</td>\n",
       "    </tr>\n",
       "    <tr>\n",
       "      <th>168</th>\n",
       "      <td>Ra07_Rb001</td>\n",
       "      <td>N#Cc1c(-c2ccc(C(F)(F)F)cc2)nc(-c2ccc(C(F)(F)F)...</td>\n",
       "      <td>1.606562</td>\n",
       "      <td>0.327642</td>\n",
       "    </tr>\n",
       "    <tr>\n",
       "      <th>300</th>\n",
       "      <td>Ra11_Rb021</td>\n",
       "      <td>N#Cc1c(-c2ccc(Cl)cc2)nc(-c2ccc(Cl)cc2)c(C#N)c1...</td>\n",
       "      <td>1.750320</td>\n",
       "      <td>0.263660</td>\n",
       "    </tr>\n",
       "    <tr>\n",
       "      <th>104</th>\n",
       "      <td>Ra04_Rb021</td>\n",
       "      <td>N#Cc1c(-c2ccc(Br)cc2)nc(-c2ccc(Br)cc2)c(C#N)c1...</td>\n",
       "      <td>2.266072</td>\n",
       "      <td>0.258800</td>\n",
       "    </tr>\n",
       "    <tr>\n",
       "      <th>263</th>\n",
       "      <td>Ra10_Rb012</td>\n",
       "      <td>N#Cc1ccc(-c2ccc(-c3nc(-c4ccc(-c5ccc(C#N)cc5)cc...</td>\n",
       "      <td>3.165758</td>\n",
       "      <td>0.055712</td>\n",
       "    </tr>\n",
       "    <tr>\n",
       "      <th>328</th>\n",
       "      <td>Ra12_Rb021</td>\n",
       "      <td>Cc1cccc(-c2nc(-c3cccc(C)c3)c(C#N)c(-c3ccc4ccc5...</td>\n",
       "      <td>3.229848</td>\n",
       "      <td>0.252654</td>\n",
       "    </tr>\n",
       "    <tr>\n",
       "      <th>132</th>\n",
       "      <td>Ra05_Rb021</td>\n",
       "      <td>Cc1ccc(-c2nc(-c3ccc(C)cc3)c(C#N)c(-c3ccc4ccc5c...</td>\n",
       "      <td>3.284847</td>\n",
       "      <td>0.253110</td>\n",
       "    </tr>\n",
       "    <tr>\n",
       "      <th>216</th>\n",
       "      <td>Ra08_Rb021</td>\n",
       "      <td>N#Cc1c(-c2ccc(-c3ccccc3)cc2)nc(-c2ccc(-c3ccccc...</td>\n",
       "      <td>4.332779</td>\n",
       "      <td>0.246563</td>\n",
       "    </tr>\n",
       "    <tr>\n",
       "      <th>552</th>\n",
       "      <td>Ra21_Rb021</td>\n",
       "      <td>N#Cc1c(-c2cccc(C(F)(F)F)c2)nc(-c2cccc(C(F)(F)F...</td>\n",
       "      <td>4.915128</td>\n",
       "      <td>0.222475</td>\n",
       "    </tr>\n",
       "  </tbody>\n",
       "</table>\n",
       "</div>"
      ],
      "text/plain": [
       "           name                                              SMILE     kappa  \\\n",
       "239  Ra09_Rb016  CCn1c2ccccc2c2cc(-c3c(C#N)c(-c4ccc(OC)cc4)nc(-...  0.208280   \n",
       "464  Ra17_Rb017  COc1cccc(-c2nc(-c3cccc(OC)c3)c(C#N)c(-c3ccc4c(...  0.262854   \n",
       "243  Ra09_Rb020  COc1ccc(-c2nc(-c3ccc(OC)cc3)c(C#N)c(-c3ccc(-n4...  1.203552   \n",
       "553  Ra21_Rb022  Cc1ccc(-c2c(C#N)c(-c3cccc(C(F)(F)F)c3)nc(-c3cc...  1.498883   \n",
       "168  Ra07_Rb001  N#Cc1c(-c2ccc(C(F)(F)F)cc2)nc(-c2ccc(C(F)(F)F)...  1.606562   \n",
       "300  Ra11_Rb021  N#Cc1c(-c2ccc(Cl)cc2)nc(-c2ccc(Cl)cc2)c(C#N)c1...  1.750320   \n",
       "104  Ra04_Rb021  N#Cc1c(-c2ccc(Br)cc2)nc(-c2ccc(Br)cc2)c(C#N)c1...  2.266072   \n",
       "263  Ra10_Rb012  N#Cc1ccc(-c2ccc(-c3nc(-c4ccc(-c5ccc(C#N)cc5)cc...  3.165758   \n",
       "328  Ra12_Rb021  Cc1cccc(-c2nc(-c3cccc(C)c3)c(C#N)c(-c3ccc4ccc5...  3.229848   \n",
       "132  Ra05_Rb021  Cc1ccc(-c2nc(-c3ccc(C)cc3)c(C#N)c(-c3ccc4ccc5c...  3.284847   \n",
       "216  Ra08_Rb021  N#Cc1c(-c2ccc(-c3ccccc3)cc2)nc(-c2ccc(-c3ccccc...  4.332779   \n",
       "552  Ra21_Rb021  N#Cc1c(-c2cccc(C(F)(F)F)c2)nc(-c2cccc(C(F)(F)F...  4.915128   \n",
       "\n",
       "         mean  \n",
       "239  0.524754  \n",
       "464  0.432150  \n",
       "243  0.391405  \n",
       "553  0.331049  \n",
       "168  0.327642  \n",
       "300  0.263660  \n",
       "104  0.258800  \n",
       "263  0.055712  \n",
       "328  0.252654  \n",
       "132  0.253110  \n",
       "216  0.246563  \n",
       "552  0.222475  "
      ]
     },
     "execution_count": 50,
     "metadata": {},
     "output_type": "execute_result"
    }
   ],
   "source": [
    "# Get the suggestion\n",
    "opt.sampling = pca_features\n",
    "next_x = opt.parallel_ask(acq_func_args=parallel_param, num_samples=1)\n",
    "next_df = bo.get_next_df(suggested_x=next_x, parallel_param=parallel_param, \n",
    "                      samples=pca_features, df=dft_df)\n",
    "next_df = next_df.reindex(columns=['name', 'SMILE', 'kappa', 'mean'])\n",
    "x = np.array(next_x).reshape(-1, 5)\n",
    "# Get the mean values from GPs\n",
    "next_df.loc[:, 'mean'] = list(opt.base_estimator.predict(X=x).reshape(-1,))\n",
    "next_df"
   ]
  },
  {
   "cell_type": "code",
   "execution_count": 51,
   "metadata": {
    "pycharm": {
     "name": "#%%\n"
    }
   },
   "outputs": [],
   "source": [
    "# Append the next suggestion sheet to the original Excel file\n",
    "with pd.ExcelWriter('../data/opt_cnps/suggested_cnps.xlsx', mode='a') as excel_writer:\n",
    "    next_df.to_excel(excel_writer, sheet_name='step_{}'.format(n_step + 1))\n",
    "with open('../data/opt_cnps/photoredox_BO.pkl', 'wb') as bo_file:\n",
    "    pickle.dump(opt, file=bo_file)"
   ]
  },
  {
   "cell_type": "markdown",
   "metadata": {
    "pycharm": {
     "name": "#%% md\n"
    }
   },
   "source": [
    "## 2.5 Step 4"
   ]
  },
  {
   "cell_type": "code",
   "execution_count": 10,
   "metadata": {
    "pycharm": {
     "name": "#%%\n"
    }
   },
   "outputs": [
    {
     "data": {
      "text/html": [
       "<div>\n",
       "<style scoped>\n",
       "    .dataframe tbody tr th:only-of-type {\n",
       "        vertical-align: middle;\n",
       "    }\n",
       "\n",
       "    .dataframe tbody tr th {\n",
       "        vertical-align: top;\n",
       "    }\n",
       "\n",
       "    .dataframe thead th {\n",
       "        text-align: right;\n",
       "    }\n",
       "</style>\n",
       "<table border=\"1\" class=\"dataframe\">\n",
       "  <thead>\n",
       "    <tr style=\"text-align: right;\">\n",
       "      <th></th>\n",
       "      <th>name</th>\n",
       "      <th>smiles</th>\n",
       "      <th>yield</th>\n",
       "    </tr>\n",
       "    <tr>\n",
       "      <th>ID</th>\n",
       "      <th></th>\n",
       "      <th></th>\n",
       "      <th></th>\n",
       "    </tr>\n",
       "  </thead>\n",
       "  <tbody>\n",
       "    <tr>\n",
       "      <th>239</th>\n",
       "      <td>Ra09_Rb016</td>\n",
       "      <td>CCn1c2ccccc2c2cc(-c3c(C#N)c(-c4ccc(OC)cc4)nc(-...</td>\n",
       "      <td>52.333333</td>\n",
       "    </tr>\n",
       "    <tr>\n",
       "      <th>464</th>\n",
       "      <td>Ra17_Rb017</td>\n",
       "      <td>COc1cccc(-c2nc(-c3cccc(OC)c3)c(C#N)c(-c3ccc4c(...</td>\n",
       "      <td>43.000000</td>\n",
       "    </tr>\n",
       "    <tr>\n",
       "      <th>243</th>\n",
       "      <td>Ra09_Rb020</td>\n",
       "      <td>COc1ccc(-c2nc(-c3ccc(OC)cc3)c(C#N)c(-c3ccc(-n4...</td>\n",
       "      <td>29.500000</td>\n",
       "    </tr>\n",
       "    <tr>\n",
       "      <th>168</th>\n",
       "      <td>Ra07_Rb001</td>\n",
       "      <td>N#Cc1c(-c2ccc(C(F)(F)F)cc2)nc(-c2ccc(C(F)(F)F)...</td>\n",
       "      <td>0.000000</td>\n",
       "    </tr>\n",
       "    <tr>\n",
       "      <th>263</th>\n",
       "      <td>Ra10_Rb012</td>\n",
       "      <td>N#Cc1ccc(-c2ccc(-c3nc(-c4ccc(-c5ccc(C#N)cc5)cc...</td>\n",
       "      <td>0.000000</td>\n",
       "    </tr>\n",
       "    <tr>\n",
       "      <th>328</th>\n",
       "      <td>Ra12_Rb021</td>\n",
       "      <td>Cc1cccc(-c2nc(-c3cccc(C)c3)c(C#N)c(-c3ccc4ccc5...</td>\n",
       "      <td>22.500000</td>\n",
       "    </tr>\n",
       "    <tr>\n",
       "      <th>132</th>\n",
       "      <td>Ra05_Rb021</td>\n",
       "      <td>Cc1ccc(-c2nc(-c3ccc(C)cc3)c(C#N)c(-c3ccc4ccc5c...</td>\n",
       "      <td>32.000000</td>\n",
       "    </tr>\n",
       "    <tr>\n",
       "      <th>153</th>\n",
       "      <td>Ra06_Rb014</td>\n",
       "      <td>N#Cc1c(-c2ccc(F)cc2)nc(-c2ccc(F)cc2)c(C#N)c1-c...</td>\n",
       "      <td>0.000000</td>\n",
       "    </tr>\n",
       "  </tbody>\n",
       "</table>\n",
       "</div>"
      ],
      "text/plain": [
       "           name                                             smiles      yield\n",
       "ID                                                                           \n",
       "239  Ra09_Rb016  CCn1c2ccccc2c2cc(-c3c(C#N)c(-c4ccc(OC)cc4)nc(-...  52.333333\n",
       "464  Ra17_Rb017  COc1cccc(-c2nc(-c3cccc(OC)c3)c(C#N)c(-c3ccc4c(...  43.000000\n",
       "243  Ra09_Rb020  COc1ccc(-c2nc(-c3ccc(OC)cc3)c(C#N)c(-c3ccc(-n4...  29.500000\n",
       "168  Ra07_Rb001  N#Cc1c(-c2ccc(C(F)(F)F)cc2)nc(-c2ccc(C(F)(F)F)...   0.000000\n",
       "263  Ra10_Rb012  N#Cc1ccc(-c2ccc(-c3nc(-c4ccc(-c5ccc(C#N)cc5)cc...   0.000000\n",
       "328  Ra12_Rb021  Cc1cccc(-c2nc(-c3cccc(C)c3)c(C#N)c(-c3ccc4ccc5...  22.500000\n",
       "132  Ra05_Rb021  Cc1ccc(-c2nc(-c3ccc(C)cc3)c(C#N)c(-c3ccc4ccc5c...  32.000000\n",
       "153  Ra06_Rb014  N#Cc1c(-c2ccc(F)cc2)nc(-c2ccc(F)cc2)c(C#N)c1-c...   0.000000"
      ]
     },
     "execution_count": 10,
     "metadata": {},
     "output_type": "execute_result"
    }
   ],
   "source": [
    "n_step = 4\n",
    "# Loading feature matrix and experimental results\n",
    "pca_features = np.load('../data/opt_cnps/pca_features.npy')\n",
    "dft_df = pd.read_excel('../data/560_DFT_result.xlsx', index_col='ID')\n",
    "exp_data_path = '../data/opt_cnps/exp_data_steps.xlsx'\n",
    "exp_x, exp_y, exp_df = bo.load_exp_data(\n",
    "    exp_df_path=exp_data_path, sheet_name='step_{}'.format(n_step), \n",
    "    samples=pca_features, return_df=True\n",
    ")\n",
    "exp_df"
   ]
  },
  {
   "cell_type": "code",
   "execution_count": 7,
   "metadata": {
    "pycharm": {
     "name": "#%%\n"
    }
   },
   "outputs": [
    {
     "data": {
      "text/plain": [
       "0.316**2 * Matern(length_scale=[0.226, 1.35e+03, 1.34, 0.0954, 6.37e+03], nu=2.5)"
      ]
     },
     "execution_count": 7,
     "metadata": {},
     "output_type": "execute_result"
    }
   ],
   "source": [
    "# Load previous BO_object\n",
    "with open('../data/opt_cnps/photoredox_BO.pkl', 'rb') as bo_file:\n",
    "    opt = pickle.load(bo_file)\n",
    "# Tell experimental results and fitting the GPs\n",
    "opt.tell(x=exp_x, y=exp_y)\n",
    "opt.base_estimator.kernel_"
   ]
  },
  {
   "cell_type": "code",
   "execution_count": 16,
   "metadata": {
    "pycharm": {
     "name": "#%%\n"
    }
   },
   "outputs": [
    {
     "data": {
      "text/plain": [
       "{'kappa': [0.14813485305398716,\n",
       "  0.2348219695022978,\n",
       "  0.4170771299660344,\n",
       "  0.43399178110196507,\n",
       "  0.5611334059528091,\n",
       "  0.8406228621748734,\n",
       "  1.7471099842442945,\n",
       "  1.9113209027504232,\n",
       "  2.6901450890607985,\n",
       "  3.3987305464134723,\n",
       "  4.582918320507437,\n",
       "  13.259032567389191]}"
      ]
     },
     "execution_count": 16,
     "metadata": {},
     "output_type": "execute_result"
    }
   ],
   "source": [
    "# Step 3 parallel suggestion parameters\n",
    "parallel_param = bo.kwargs_generator(mean=2.5, size=12, name='kappa')\n",
    "parallel_param"
   ]
  },
  {
   "cell_type": "code",
   "execution_count": 20,
   "metadata": {
    "pycharm": {
     "name": "#%%\n"
    }
   },
   "outputs": [
    {
     "data": {
      "text/html": [
       "<div>\n",
       "<style scoped>\n",
       "    .dataframe tbody tr th:only-of-type {\n",
       "        vertical-align: middle;\n",
       "    }\n",
       "\n",
       "    .dataframe tbody tr th {\n",
       "        vertical-align: top;\n",
       "    }\n",
       "\n",
       "    .dataframe thead th {\n",
       "        text-align: right;\n",
       "    }\n",
       "</style>\n",
       "<table border=\"1\" class=\"dataframe\">\n",
       "  <thead>\n",
       "    <tr style=\"text-align: right;\">\n",
       "      <th></th>\n",
       "      <th>name</th>\n",
       "      <th>SMILE</th>\n",
       "      <th>kappa</th>\n",
       "      <th>mean</th>\n",
       "    </tr>\n",
       "  </thead>\n",
       "  <tbody>\n",
       "    <tr>\n",
       "      <th>519</th>\n",
       "      <td>Ra20_Rb016</td>\n",
       "      <td>CCn1c2ccccc2c2cc(-c3c(C#N)c(-c4cccc(I)c4)nc(-c...</td>\n",
       "      <td>0.148135</td>\n",
       "      <td>0.541791</td>\n",
       "    </tr>\n",
       "    <tr>\n",
       "      <th>240</th>\n",
       "      <td>Ra09_Rb017</td>\n",
       "      <td>COc1ccc(-c2nc(-c3ccc(OC)cc3)c(C#N)c(-c3ccc4c(c...</td>\n",
       "      <td>0.234822</td>\n",
       "      <td>0.516101</td>\n",
       "    </tr>\n",
       "    <tr>\n",
       "      <th>338</th>\n",
       "      <td>Ra13_Rb003</td>\n",
       "      <td>N#Cc1c(-c2ccc3ccccc3c2)nc(-c2ccc3ccccc3c2)c(C#...</td>\n",
       "      <td>0.417077</td>\n",
       "      <td>0.483356</td>\n",
       "    </tr>\n",
       "    <tr>\n",
       "      <th>351</th>\n",
       "      <td>Ra13_Rb016</td>\n",
       "      <td>CCn1c2ccccc2c2cc(-c3c(C#N)c(-c4ccc5ccccc5c4)nc...</td>\n",
       "      <td>0.433992</td>\n",
       "      <td>0.470216</td>\n",
       "    </tr>\n",
       "    <tr>\n",
       "      <th>128</th>\n",
       "      <td>Ra05_Rb017</td>\n",
       "      <td>Cc1ccc(-c2nc(-c3ccc(C)cc3)c(C#N)c(-c3ccc4c(c3)...</td>\n",
       "      <td>0.561133</td>\n",
       "      <td>0.491938</td>\n",
       "    </tr>\n",
       "    <tr>\n",
       "      <th>491</th>\n",
       "      <td>Ra18_Rb016</td>\n",
       "      <td>CCn1c2ccccc2c2cc(-c3c(C#N)c(-c4ccc(I)cc4)nc(-c...</td>\n",
       "      <td>0.840623</td>\n",
       "      <td>0.470588</td>\n",
       "    </tr>\n",
       "    <tr>\n",
       "      <th>269</th>\n",
       "      <td>Ra10_Rb018</td>\n",
       "      <td>N#Cc1ccc(-c2ccc(-c3nc(-c4ccc(-c5ccc(C#N)cc5)cc...</td>\n",
       "      <td>1.747110</td>\n",
       "      <td>0.346390</td>\n",
       "    </tr>\n",
       "    <tr>\n",
       "      <th>242</th>\n",
       "      <td>Ra09_Rb019</td>\n",
       "      <td>COc1ccc(-c2nc(-c3ccc(OC)cc3)c(C#N)c(-c3ccc(N(c...</td>\n",
       "      <td>1.911321</td>\n",
       "      <td>0.160676</td>\n",
       "    </tr>\n",
       "    <tr>\n",
       "      <th>130</th>\n",
       "      <td>Ra05_Rb019</td>\n",
       "      <td>COc1ccc(N(c2ccc(OC)cc2)c2ccc(-c3c(C#N)c(-c4ccc...</td>\n",
       "      <td>2.690145</td>\n",
       "      <td>0.159955</td>\n",
       "    </tr>\n",
       "    <tr>\n",
       "      <th>158</th>\n",
       "      <td>Ra06_Rb019</td>\n",
       "      <td>COc1ccc(N(c2ccc(OC)cc2)c2ccc(-c3c(C#N)c(-c4ccc...</td>\n",
       "      <td>3.398731</td>\n",
       "      <td>0.155669</td>\n",
       "    </tr>\n",
       "    <tr>\n",
       "      <th>74</th>\n",
       "      <td>Ra03_Rb019</td>\n",
       "      <td>COc1ccc(N(c2ccc(OC)cc2)c2ccc(-c3c(C#N)c(-c4ccc...</td>\n",
       "      <td>4.582918</td>\n",
       "      <td>0.053691</td>\n",
       "    </tr>\n",
       "    <tr>\n",
       "      <th>55</th>\n",
       "      <td>Ra02_Rb028</td>\n",
       "      <td>N#Cc1ccc(-c2ccc(-c3c(C#N)c(-c4cccc(C#N)c4)nc(-...</td>\n",
       "      <td>13.259033</td>\n",
       "      <td>0.074130</td>\n",
       "    </tr>\n",
       "  </tbody>\n",
       "</table>\n",
       "</div>"
      ],
      "text/plain": [
       "           name                                              SMILE      kappa  \\\n",
       "519  Ra20_Rb016  CCn1c2ccccc2c2cc(-c3c(C#N)c(-c4cccc(I)c4)nc(-c...   0.148135   \n",
       "240  Ra09_Rb017  COc1ccc(-c2nc(-c3ccc(OC)cc3)c(C#N)c(-c3ccc4c(c...   0.234822   \n",
       "338  Ra13_Rb003  N#Cc1c(-c2ccc3ccccc3c2)nc(-c2ccc3ccccc3c2)c(C#...   0.417077   \n",
       "351  Ra13_Rb016  CCn1c2ccccc2c2cc(-c3c(C#N)c(-c4ccc5ccccc5c4)nc...   0.433992   \n",
       "128  Ra05_Rb017  Cc1ccc(-c2nc(-c3ccc(C)cc3)c(C#N)c(-c3ccc4c(c3)...   0.561133   \n",
       "491  Ra18_Rb016  CCn1c2ccccc2c2cc(-c3c(C#N)c(-c4ccc(I)cc4)nc(-c...   0.840623   \n",
       "269  Ra10_Rb018  N#Cc1ccc(-c2ccc(-c3nc(-c4ccc(-c5ccc(C#N)cc5)cc...   1.747110   \n",
       "242  Ra09_Rb019  COc1ccc(-c2nc(-c3ccc(OC)cc3)c(C#N)c(-c3ccc(N(c...   1.911321   \n",
       "130  Ra05_Rb019  COc1ccc(N(c2ccc(OC)cc2)c2ccc(-c3c(C#N)c(-c4ccc...   2.690145   \n",
       "158  Ra06_Rb019  COc1ccc(N(c2ccc(OC)cc2)c2ccc(-c3c(C#N)c(-c4ccc...   3.398731   \n",
       "74   Ra03_Rb019  COc1ccc(N(c2ccc(OC)cc2)c2ccc(-c3c(C#N)c(-c4ccc...   4.582918   \n",
       "55   Ra02_Rb028  N#Cc1ccc(-c2ccc(-c3c(C#N)c(-c4cccc(C#N)c4)nc(-...  13.259033   \n",
       "\n",
       "         mean  \n",
       "519  0.541791  \n",
       "240  0.516101  \n",
       "338  0.483356  \n",
       "351  0.470216  \n",
       "128  0.491938  \n",
       "491  0.470588  \n",
       "269  0.346390  \n",
       "242  0.160676  \n",
       "130  0.159955  \n",
       "158  0.155669  \n",
       "74   0.053691  \n",
       "55   0.074130  "
      ]
     },
     "execution_count": 20,
     "metadata": {},
     "output_type": "execute_result"
    }
   ],
   "source": [
    "# Get the suggestion\n",
    "opt.sampling = pca_features\n",
    "next_x = opt.parallel_ask(acq_func_args=parallel_param, num_samples=1)\n",
    "next_df = bo.get_next_df(suggested_x=next_x, parallel_param=parallel_param, \n",
    "                      samples=pca_features, df=dft_df)\n",
    "next_df = next_df.reindex(columns=['name', 'SMILE', 'kappa', 'mean'])\n",
    "x = np.array(next_x).reshape(-1, 5)\n",
    "# Get the mean values from GPs\n",
    "next_df.loc[:, 'mean'] = list(opt.base_estimator.predict(X=x).reshape(-1,))\n",
    "next_df"
   ]
  },
  {
   "cell_type": "code",
   "execution_count": 22,
   "metadata": {
    "pycharm": {
     "name": "#%%\n"
    }
   },
   "outputs": [],
   "source": [
    "# Append the next suggestion sheet to the original Excel file\n",
    "with pd.ExcelWriter('../data/opt_cnps/suggested_cnps.xlsx', mode='a') as excel_writer:\n",
    "    next_df.to_excel(excel_writer, sheet_name='step_{}'.format(n_step + 1))\n",
    "with open('../data/opt_cnps/photoredox_BO.pkl', 'wb') as bo_file:\n",
    "    pickle.dump(opt, file=bo_file)"
   ]
  },
  {
   "cell_type": "markdown",
   "metadata": {
    "pycharm": {
     "name": "#%% md\n"
    }
   },
   "source": [
    "## 2.6 Step 5"
   ]
  },
  {
   "cell_type": "code",
   "execution_count": 11,
   "metadata": {
    "pycharm": {
     "name": "#%%\n"
    }
   },
   "outputs": [
    {
     "data": {
      "text/html": [
       "<div>\n",
       "<style scoped>\n",
       "    .dataframe tbody tr th:only-of-type {\n",
       "        vertical-align: middle;\n",
       "    }\n",
       "\n",
       "    .dataframe tbody tr th {\n",
       "        vertical-align: top;\n",
       "    }\n",
       "\n",
       "    .dataframe thead th {\n",
       "        text-align: right;\n",
       "    }\n",
       "</style>\n",
       "<table border=\"1\" class=\"dataframe\">\n",
       "  <thead>\n",
       "    <tr style=\"text-align: right;\">\n",
       "      <th></th>\n",
       "      <th>name</th>\n",
       "      <th>smiles</th>\n",
       "      <th>yield</th>\n",
       "    </tr>\n",
       "    <tr>\n",
       "      <th>ID</th>\n",
       "      <th></th>\n",
       "      <th></th>\n",
       "      <th></th>\n",
       "    </tr>\n",
       "  </thead>\n",
       "  <tbody>\n",
       "    <tr>\n",
       "      <th>519</th>\n",
       "      <td>Ra20_Rb016</td>\n",
       "      <td>CCn1c2ccccc2c2cc(-c3c(C#N)c(-c4cccc(I)c4)nc(-c...</td>\n",
       "      <td>32.000000</td>\n",
       "    </tr>\n",
       "    <tr>\n",
       "      <th>240</th>\n",
       "      <td>Ra09_Rb017</td>\n",
       "      <td>COc1ccc(-c2nc(-c3ccc(OC)cc3)c(C#N)c(-c3ccc4c(c...</td>\n",
       "      <td>48.666667</td>\n",
       "    </tr>\n",
       "    <tr>\n",
       "      <th>338</th>\n",
       "      <td>Ra13_Rb003</td>\n",
       "      <td>N#Cc1c(-c2ccc3ccccc3c2)nc(-c2ccc3ccccc3c2)c(C#...</td>\n",
       "      <td>1.000000</td>\n",
       "    </tr>\n",
       "    <tr>\n",
       "      <th>351</th>\n",
       "      <td>Ra13_Rb016</td>\n",
       "      <td>CCn1c2ccccc2c2cc(-c3c(C#N)c(-c4ccc5ccccc5c4)nc...</td>\n",
       "      <td>1.000000</td>\n",
       "    </tr>\n",
       "    <tr>\n",
       "      <th>128</th>\n",
       "      <td>Ra05_Rb017</td>\n",
       "      <td>Cc1ccc(-c2nc(-c3ccc(C)cc3)c(C#N)c(-c3ccc4c(c3)...</td>\n",
       "      <td>54.666667</td>\n",
       "    </tr>\n",
       "    <tr>\n",
       "      <th>491</th>\n",
       "      <td>Ra18_Rb016</td>\n",
       "      <td>CCn1c2ccccc2c2cc(-c3c(C#N)c(-c4ccc(I)cc4)nc(-c...</td>\n",
       "      <td>40.000000</td>\n",
       "    </tr>\n",
       "    <tr>\n",
       "      <th>269</th>\n",
       "      <td>Ra10_Rb018</td>\n",
       "      <td>N#Cc1ccc(-c2ccc(-c3nc(-c4ccc(-c5ccc(C#N)cc5)cc...</td>\n",
       "      <td>7.000000</td>\n",
       "    </tr>\n",
       "    <tr>\n",
       "      <th>130</th>\n",
       "      <td>Ra05_Rb019</td>\n",
       "      <td>COc1ccc(N(c2ccc(OC)cc2)c2ccc(-c3c(C#N)c(-c4ccc...</td>\n",
       "      <td>0.000000</td>\n",
       "    </tr>\n",
       "    <tr>\n",
       "      <th>74</th>\n",
       "      <td>Ra03_Rb019</td>\n",
       "      <td>COc1ccc(N(c2ccc(OC)cc2)c2ccc(-c3c(C#N)c(-c4ccc...</td>\n",
       "      <td>0.000000</td>\n",
       "    </tr>\n",
       "    <tr>\n",
       "      <th>55</th>\n",
       "      <td>Ra02_Rb028</td>\n",
       "      <td>N#Cc1ccc(-c2ccc(-c3c(C#N)c(-c4cccc(C#N)c4)nc(-...</td>\n",
       "      <td>0.666667</td>\n",
       "    </tr>\n",
       "    <tr>\n",
       "      <th>62</th>\n",
       "      <td>Ra03_Rb007</td>\n",
       "      <td>N#Cc1ccc(-c2nc(-c3ccc(C#N)cc3)c(C#N)c(-c3cccc(...</td>\n",
       "      <td>0.000000</td>\n",
       "    </tr>\n",
       "  </tbody>\n",
       "</table>\n",
       "</div>"
      ],
      "text/plain": [
       "           name                                             smiles      yield\n",
       "ID                                                                           \n",
       "519  Ra20_Rb016  CCn1c2ccccc2c2cc(-c3c(C#N)c(-c4cccc(I)c4)nc(-c...  32.000000\n",
       "240  Ra09_Rb017  COc1ccc(-c2nc(-c3ccc(OC)cc3)c(C#N)c(-c3ccc4c(c...  48.666667\n",
       "338  Ra13_Rb003  N#Cc1c(-c2ccc3ccccc3c2)nc(-c2ccc3ccccc3c2)c(C#...   1.000000\n",
       "351  Ra13_Rb016  CCn1c2ccccc2c2cc(-c3c(C#N)c(-c4ccc5ccccc5c4)nc...   1.000000\n",
       "128  Ra05_Rb017  Cc1ccc(-c2nc(-c3ccc(C)cc3)c(C#N)c(-c3ccc4c(c3)...  54.666667\n",
       "491  Ra18_Rb016  CCn1c2ccccc2c2cc(-c3c(C#N)c(-c4ccc(I)cc4)nc(-c...  40.000000\n",
       "269  Ra10_Rb018  N#Cc1ccc(-c2ccc(-c3nc(-c4ccc(-c5ccc(C#N)cc5)cc...   7.000000\n",
       "130  Ra05_Rb019  COc1ccc(N(c2ccc(OC)cc2)c2ccc(-c3c(C#N)c(-c4ccc...   0.000000\n",
       "74   Ra03_Rb019  COc1ccc(N(c2ccc(OC)cc2)c2ccc(-c3c(C#N)c(-c4ccc...   0.000000\n",
       "55   Ra02_Rb028  N#Cc1ccc(-c2ccc(-c3c(C#N)c(-c4cccc(C#N)c4)nc(-...   0.666667\n",
       "62   Ra03_Rb007  N#Cc1ccc(-c2nc(-c3ccc(C#N)cc3)c(C#N)c(-c3cccc(...   0.000000"
      ]
     },
     "execution_count": 11,
     "metadata": {},
     "output_type": "execute_result"
    }
   ],
   "source": [
    "n_step = 5\n",
    "# Loading feature matrix and experimental results\n",
    "pca_features = np.load('../data/opt_cnps/pca_features.npy')\n",
    "dft_df = pd.read_excel('../data/560_DFT_result.xlsx', index_col='ID')\n",
    "exp_data_path = '../data/opt_cnps/exp_data_steps.xlsx'\n",
    "exp_x, exp_y, exp_df = bo.load_exp_data(\n",
    "    exp_df_path=exp_data_path, sheet_name='step_{}'.format(n_step), \n",
    "    samples=pca_features, return_df=True\n",
    ")\n",
    "exp_df"
   ]
  },
  {
   "cell_type": "code",
   "execution_count": 222,
   "metadata": {
    "pycharm": {
     "name": "#%%\n"
    }
   },
   "outputs": [
    {
     "data": {
      "text/plain": [
       "0.316**2 * Matern(length_scale=[0.236, 3.65e+05, 1.66e+03, 0.108, 0.269], nu=2.5)"
      ]
     },
     "execution_count": 222,
     "metadata": {},
     "output_type": "execute_result"
    }
   ],
   "source": [
    "# Load previous BO_object\n",
    "with open('../data/opt_cnps/photoredox_BO.pkl', 'rb') as bo_file:\n",
    "    opt = pickle.load(bo_file)\n",
    "# Tell experimental results and fitting the GPs\n",
    "opt.tell(x=exp_x, y=exp_y)\n",
    "opt.base_estimator.kernel_"
   ]
  },
  {
   "cell_type": "code",
   "execution_count": 17,
   "metadata": {
    "pycharm": {
     "name": "#%%\n"
    }
   },
   "outputs": [
    {
     "data": {
      "text/plain": [
       "{'kappa': [0.04584220041133728,\n",
       "  0.06287603654546714,\n",
       "  0.325120289030415,\n",
       "  0.5082135255837025,\n",
       "  0.6954883136767915,\n",
       "  2.3145651639860247,\n",
       "  2.770295610157596,\n",
       "  2.952767743939239,\n",
       "  3.1806863847782973,\n",
       "  3.215367865522933,\n",
       "  3.5161296925662446,\n",
       "  3.9136864744130917]}"
      ]
     },
     "execution_count": 17,
     "metadata": {},
     "output_type": "execute_result"
    }
   ],
   "source": [
    "# Step 5 parallel suggestion parameters\n",
    "parallel_param = bo.kwargs_generator(mean=2.5, size=12)\n",
    "parallel_param"
   ]
  },
  {
   "cell_type": "code",
   "execution_count": 224,
   "metadata": {
    "pycharm": {
     "name": "#%%\n"
    }
   },
   "outputs": [
    {
     "data": {
      "text/html": [
       "<div>\n",
       "<style scoped>\n",
       "    .dataframe tbody tr th:only-of-type {\n",
       "        vertical-align: middle;\n",
       "    }\n",
       "\n",
       "    .dataframe tbody tr th {\n",
       "        vertical-align: top;\n",
       "    }\n",
       "\n",
       "    .dataframe thead th {\n",
       "        text-align: right;\n",
       "    }\n",
       "</style>\n",
       "<table border=\"1\" class=\"dataframe\">\n",
       "  <thead>\n",
       "    <tr style=\"text-align: right;\">\n",
       "      <th></th>\n",
       "      <th>name</th>\n",
       "      <th>SMILE</th>\n",
       "      <th>kappa</th>\n",
       "      <th>mean</th>\n",
       "    </tr>\n",
       "  </thead>\n",
       "  <tbody>\n",
       "    <tr>\n",
       "      <th>127</th>\n",
       "      <td>Ra05_Rb016</td>\n",
       "      <td>CCn1c2ccccc2c2cc(-c3c(C#N)c(-c4ccc(C)cc4)nc(-c...</td>\n",
       "      <td>0.045842</td>\n",
       "      <td>0.508614</td>\n",
       "    </tr>\n",
       "    <tr>\n",
       "      <th>323</th>\n",
       "      <td>Ra12_Rb016</td>\n",
       "      <td>CCn1c2ccccc2c2cc(-c3c(C#N)c(-c4cccc(C)c4)nc(-c...</td>\n",
       "      <td>0.062876</td>\n",
       "      <td>0.500055</td>\n",
       "    </tr>\n",
       "    <tr>\n",
       "      <th>244</th>\n",
       "      <td>Ra09_Rb021</td>\n",
       "      <td>COc1ccc(-c2nc(-c3ccc(OC)cc3)c(C#N)c(-c3ccc4ccc...</td>\n",
       "      <td>0.325120</td>\n",
       "      <td>0.478969</td>\n",
       "    </tr>\n",
       "    <tr>\n",
       "      <th>156</th>\n",
       "      <td>Ra06_Rb017</td>\n",
       "      <td>Cn1c2ccccc2c2cc(-c3c(C#N)c(-c4ccc(F)cc4)nc(-c4...</td>\n",
       "      <td>0.508214</td>\n",
       "      <td>0.492417</td>\n",
       "    </tr>\n",
       "    <tr>\n",
       "      <th>459</th>\n",
       "      <td>Ra17_Rb012</td>\n",
       "      <td>COc1cccc(-c2nc(-c3cccc(OC)c3)c(C#N)c(-c3ccc(C#...</td>\n",
       "      <td>0.695488</td>\n",
       "      <td>0.329406</td>\n",
       "    </tr>\n",
       "    <tr>\n",
       "      <th>279</th>\n",
       "      <td>Ra10_Rb028</td>\n",
       "      <td>N#Cc1ccc(-c2ccc(-c3nc(-c4ccc(-c5ccc(C#N)cc5)cc...</td>\n",
       "      <td>2.314565</td>\n",
       "      <td>0.087532</td>\n",
       "    </tr>\n",
       "    <tr>\n",
       "      <th>256</th>\n",
       "      <td>Ra10_Rb005</td>\n",
       "      <td>C#Cc1ccc(-c2c(C#N)c(-c3ccc(-c4ccc(C#N)cc4)cc3)...</td>\n",
       "      <td>2.770296</td>\n",
       "      <td>0.076839</td>\n",
       "    </tr>\n",
       "    <tr>\n",
       "      <th>56</th>\n",
       "      <td>Ra03_Rb001</td>\n",
       "      <td>N#Cc1ccc(-c2nc(-c3ccc(C#N)cc3)c(C#N)c(-c3cccc4...</td>\n",
       "      <td>2.952768</td>\n",
       "      <td>0.076407</td>\n",
       "    </tr>\n",
       "    <tr>\n",
       "      <th>54</th>\n",
       "      <td>Ra02_Rb027</td>\n",
       "      <td>N#Cc1cccc(-c2nc(-c3cccc(C#N)c3)c(C#N)c(-c3ccc(...</td>\n",
       "      <td>3.180686</td>\n",
       "      <td>0.060219</td>\n",
       "    </tr>\n",
       "    <tr>\n",
       "      <th>29</th>\n",
       "      <td>Ra02_Rb002</td>\n",
       "      <td>N#Cc1cccc(-c2nc(-c3cccc(C#N)c3)c(C#N)c(-c3ccc(...</td>\n",
       "      <td>3.215368</td>\n",
       "      <td>0.055999</td>\n",
       "    </tr>\n",
       "    <tr>\n",
       "      <th>51</th>\n",
       "      <td>Ra02_Rb024</td>\n",
       "      <td>Cc1ccc(-c2ccc(-c3c(C#N)c(-c4cccc(C#N)c4)nc(-c4...</td>\n",
       "      <td>3.516130</td>\n",
       "      <td>0.052368</td>\n",
       "    </tr>\n",
       "    <tr>\n",
       "      <th>191</th>\n",
       "      <td>Ra07_Rb024</td>\n",
       "      <td>Cc1ccc(-c2ccc(-c3c(C#N)c(-c4ccc(C(F)(F)F)cc4)n...</td>\n",
       "      <td>3.913686</td>\n",
       "      <td>0.053587</td>\n",
       "    </tr>\n",
       "  </tbody>\n",
       "</table>\n",
       "</div>"
      ],
      "text/plain": [
       "           name                                              SMILE     kappa  \\\n",
       "127  Ra05_Rb016  CCn1c2ccccc2c2cc(-c3c(C#N)c(-c4ccc(C)cc4)nc(-c...  0.045842   \n",
       "323  Ra12_Rb016  CCn1c2ccccc2c2cc(-c3c(C#N)c(-c4cccc(C)c4)nc(-c...  0.062876   \n",
       "244  Ra09_Rb021  COc1ccc(-c2nc(-c3ccc(OC)cc3)c(C#N)c(-c3ccc4ccc...  0.325120   \n",
       "156  Ra06_Rb017  Cn1c2ccccc2c2cc(-c3c(C#N)c(-c4ccc(F)cc4)nc(-c4...  0.508214   \n",
       "459  Ra17_Rb012  COc1cccc(-c2nc(-c3cccc(OC)c3)c(C#N)c(-c3ccc(C#...  0.695488   \n",
       "279  Ra10_Rb028  N#Cc1ccc(-c2ccc(-c3nc(-c4ccc(-c5ccc(C#N)cc5)cc...  2.314565   \n",
       "256  Ra10_Rb005  C#Cc1ccc(-c2c(C#N)c(-c3ccc(-c4ccc(C#N)cc4)cc3)...  2.770296   \n",
       "56   Ra03_Rb001  N#Cc1ccc(-c2nc(-c3ccc(C#N)cc3)c(C#N)c(-c3cccc4...  2.952768   \n",
       "54   Ra02_Rb027  N#Cc1cccc(-c2nc(-c3cccc(C#N)c3)c(C#N)c(-c3ccc(...  3.180686   \n",
       "29   Ra02_Rb002  N#Cc1cccc(-c2nc(-c3cccc(C#N)c3)c(C#N)c(-c3ccc(...  3.215368   \n",
       "51   Ra02_Rb024  Cc1ccc(-c2ccc(-c3c(C#N)c(-c4cccc(C#N)c4)nc(-c4...  3.516130   \n",
       "191  Ra07_Rb024  Cc1ccc(-c2ccc(-c3c(C#N)c(-c4ccc(C(F)(F)F)cc4)n...  3.913686   \n",
       "\n",
       "         mean  \n",
       "127  0.508614  \n",
       "323  0.500055  \n",
       "244  0.478969  \n",
       "156  0.492417  \n",
       "459  0.329406  \n",
       "279  0.087532  \n",
       "256  0.076839  \n",
       "56   0.076407  \n",
       "54   0.060219  \n",
       "29   0.055999  \n",
       "51   0.052368  \n",
       "191  0.053587  "
      ]
     },
     "execution_count": 224,
     "metadata": {},
     "output_type": "execute_result"
    }
   ],
   "source": [
    "# Get the suggestion\n",
    "opt.sampling = pca_features\n",
    "next_x = opt.parallel_ask(acq_func_args=parallel_param, num_samples=1)\n",
    "next_df = bo.get_next_df(suggested_x=next_x, parallel_param=parallel_param, \n",
    "                      samples=pca_features, df=dft_df)\n",
    "next_df = next_df.reindex(columns=['name', 'SMILE', 'kappa', 'mean'])\n",
    "x = np.array(next_x).reshape(-1, 5)\n",
    "# Get the mean values from GPs\n",
    "next_df.loc[:, 'mean'] = list(opt.base_estimator.predict(X=x).reshape(-1,))\n",
    "next_df"
   ]
  },
  {
   "cell_type": "code",
   "execution_count": 194,
   "metadata": {
    "pycharm": {
     "name": "#%%\n"
    }
   },
   "outputs": [],
   "source": [
    "# Append the next suggestion sheet to the original Excel file\n",
    "with pd.ExcelWriter('../data/opt_cnps/suggested_cnps.xlsx', mode='a') as excel_writer:\n",
    "    next_df.to_excel(excel_writer, sheet_name='step_{}'.format(n_step + 1))\n",
    "# Save the BO object\n",
    "with open('../data/opt_cnps/photoredox_BO.pkl', 'wb') as bo_file:\n",
    "    pickle.dump(opt, file=bo_file)"
   ]
  },
  {
   "cell_type": "markdown",
   "metadata": {
    "pycharm": {
     "name": "#%% md\n"
    }
   },
   "source": [
    "## 2.7 Step 6"
   ]
  },
  {
   "cell_type": "code",
   "execution_count": 12,
   "metadata": {
    "pycharm": {
     "name": "#%%\n"
    }
   },
   "outputs": [
    {
     "data": {
      "text/html": [
       "<div>\n",
       "<style scoped>\n",
       "    .dataframe tbody tr th:only-of-type {\n",
       "        vertical-align: middle;\n",
       "    }\n",
       "\n",
       "    .dataframe tbody tr th {\n",
       "        vertical-align: top;\n",
       "    }\n",
       "\n",
       "    .dataframe thead th {\n",
       "        text-align: right;\n",
       "    }\n",
       "</style>\n",
       "<table border=\"1\" class=\"dataframe\">\n",
       "  <thead>\n",
       "    <tr style=\"text-align: right;\">\n",
       "      <th></th>\n",
       "      <th>name</th>\n",
       "      <th>smiles</th>\n",
       "      <th>yield</th>\n",
       "    </tr>\n",
       "    <tr>\n",
       "      <th>ID</th>\n",
       "      <th></th>\n",
       "      <th></th>\n",
       "      <th></th>\n",
       "    </tr>\n",
       "  </thead>\n",
       "  <tbody>\n",
       "    <tr>\n",
       "      <th>127</th>\n",
       "      <td>Ra05_Rb016</td>\n",
       "      <td>CCn1c2ccccc2c2cc(-c3c(C#N)c(-c4ccc(C)cc4)nc(-c...</td>\n",
       "      <td>66.666667</td>\n",
       "    </tr>\n",
       "    <tr>\n",
       "      <th>323</th>\n",
       "      <td>Ra12_Rb016</td>\n",
       "      <td>COc1ccc(-c2nc(-c3ccc(OC)cc3)c(C#N)c(-c3ccc4c(c...</td>\n",
       "      <td>53.666667</td>\n",
       "    </tr>\n",
       "    <tr>\n",
       "      <th>244</th>\n",
       "      <td>Ra09_Rb021</td>\n",
       "      <td>N#Cc1c(-c2ccc3ccccc3c2)nc(-c2ccc3ccccc3c2)c(C#...</td>\n",
       "      <td>32.500000</td>\n",
       "    </tr>\n",
       "    <tr>\n",
       "      <th>459</th>\n",
       "      <td>Ra17_Rb012</td>\n",
       "      <td>COc1cccc(-c2nc(-c3cccc(OC)c3)c(C#N)c(-c3ccc(C#...</td>\n",
       "      <td>0.000000</td>\n",
       "    </tr>\n",
       "    <tr>\n",
       "      <th>56</th>\n",
       "      <td>Ra03_Rb001</td>\n",
       "      <td>N#Cc1ccc(-c2nc(-c3ccc(C#N)cc3)c(C#N)c(-c3cccc4...</td>\n",
       "      <td>1.000000</td>\n",
       "    </tr>\n",
       "    <tr>\n",
       "      <th>234</th>\n",
       "      <td>Ra09_Rb011</td>\n",
       "      <td>COc1ccc(-c2nc(-c3ccc(OC)cc3)c(C#N)c(-c3ccc4c(c...</td>\n",
       "      <td>38.000000</td>\n",
       "    </tr>\n",
       "  </tbody>\n",
       "</table>\n",
       "</div>"
      ],
      "text/plain": [
       "           name                                             smiles      yield\n",
       "ID                                                                           \n",
       "127  Ra05_Rb016  CCn1c2ccccc2c2cc(-c3c(C#N)c(-c4ccc(C)cc4)nc(-c...  66.666667\n",
       "323  Ra12_Rb016  COc1ccc(-c2nc(-c3ccc(OC)cc3)c(C#N)c(-c3ccc4c(c...  53.666667\n",
       "244  Ra09_Rb021  N#Cc1c(-c2ccc3ccccc3c2)nc(-c2ccc3ccccc3c2)c(C#...  32.500000\n",
       "459  Ra17_Rb012  COc1cccc(-c2nc(-c3cccc(OC)c3)c(C#N)c(-c3ccc(C#...   0.000000\n",
       "56   Ra03_Rb001  N#Cc1ccc(-c2nc(-c3ccc(C#N)cc3)c(C#N)c(-c3cccc4...   1.000000\n",
       "234  Ra09_Rb011  COc1ccc(-c2nc(-c3ccc(OC)cc3)c(C#N)c(-c3ccc4c(c...  38.000000"
      ]
     },
     "execution_count": 12,
     "metadata": {},
     "output_type": "execute_result"
    }
   ],
   "source": [
    "n_step = 6\n",
    "# Loading feature matrix and experimental results\n",
    "pca_features = np.load('../data/opt_cnps/pca_features.npy')\n",
    "dft_df = pd.read_excel('../data/560_DFT_result.xlsx', index_col='ID')\n",
    "exp_data_path = '../data/opt_cnps/exp_data_steps.xlsx'\n",
    "exp_x, exp_y, exp_df = bo.load_exp_data(\n",
    "    exp_df_path=exp_data_path, sheet_name='step_{}'.format(n_step), \n",
    "    samples=pca_features, return_df=True\n",
    ")\n",
    "exp_df"
   ]
  },
  {
   "cell_type": "code",
   "execution_count": 6,
   "metadata": {
    "pycharm": {
     "name": "#%%\n"
    }
   },
   "outputs": [
    {
     "data": {
      "text/plain": [
       "0.316**2 * Matern(length_scale=[2.17, 1e+06, 9.19e+03, 0.0577, 0.169], nu=2.5)"
      ]
     },
     "execution_count": 6,
     "metadata": {},
     "output_type": "execute_result"
    }
   ],
   "source": [
    "# Load previous BO_object\n",
    "with open('../data/opt_cnps/photoredox_BO.pkl', 'rb') as bo_file:\n",
    "    opt = pickle.load(bo_file)\n",
    "# Tell experimental results and fitting the GPs\n",
    "opt.tell(x=exp_x, y=exp_y)\n",
    "opt.base_estimator.kernel_"
   ]
  },
  {
   "cell_type": "code",
   "execution_count": 8,
   "metadata": {
    "pycharm": {
     "name": "#%%\n"
    }
   },
   "outputs": [
    {
     "data": {
      "text/plain": [
       "{'kappa': [0.2951568355459849,\n",
       "  0.47647837643559093,\n",
       "  0.9800181969948213,\n",
       "  1.038714577619687,\n",
       "  1.3135529934619443,\n",
       "  1.3288522313711202,\n",
       "  1.3814107235306186,\n",
       "  3.0040949967458435,\n",
       "  3.3937106141837843,\n",
       "  3.491008270073936,\n",
       "  3.820943269131958,\n",
       "  4.867182465818417]}"
      ]
     },
     "execution_count": 8,
     "metadata": {},
     "output_type": "execute_result"
    }
   ],
   "source": [
    "# Step 5 parallel suggestion parameters\n",
    "parallel_param = bo.kwargs_generator(mean=2.5, size=12)\n",
    "parallel_param"
   ]
  },
  {
   "cell_type": "code",
   "execution_count": 9,
   "metadata": {
    "pycharm": {
     "name": "#%%\n"
    }
   },
   "outputs": [
    {
     "data": {
      "text/html": [
       "<div>\n",
       "<style scoped>\n",
       "    .dataframe tbody tr th:only-of-type {\n",
       "        vertical-align: middle;\n",
       "    }\n",
       "\n",
       "    .dataframe tbody tr th {\n",
       "        vertical-align: top;\n",
       "    }\n",
       "\n",
       "    .dataframe thead th {\n",
       "        text-align: right;\n",
       "    }\n",
       "</style>\n",
       "<table border=\"1\" class=\"dataframe\">\n",
       "  <thead>\n",
       "    <tr style=\"text-align: right;\">\n",
       "      <th></th>\n",
       "      <th>name</th>\n",
       "      <th>SMILE</th>\n",
       "      <th>kappa</th>\n",
       "      <th>mean</th>\n",
       "    </tr>\n",
       "  </thead>\n",
       "  <tbody>\n",
       "    <tr>\n",
       "      <th>122</th>\n",
       "      <td>Ra05_Rb011</td>\n",
       "      <td>Cc1ccc(-c2nc(-c3ccc(C)cc3)c(C#N)c(-c3ccc4c(c3)...</td>\n",
       "      <td>0.295157</td>\n",
       "      <td>0.680056</td>\n",
       "    </tr>\n",
       "    <tr>\n",
       "      <th>502</th>\n",
       "      <td>Ra18_Rb027</td>\n",
       "      <td>N#Cc1c(-c2ccc(I)cc2)nc(-c2ccc(I)cc2)c(C#N)c1-c...</td>\n",
       "      <td>0.476478</td>\n",
       "      <td>0.656313</td>\n",
       "    </tr>\n",
       "    <tr>\n",
       "      <th>308</th>\n",
       "      <td>Ra12_Rb001</td>\n",
       "      <td>Cc1cccc(-c2nc(-c3cccc(C)c3)c(C#N)c(-c3cccc4ccc...</td>\n",
       "      <td>0.980018</td>\n",
       "      <td>0.630278</td>\n",
       "    </tr>\n",
       "    <tr>\n",
       "      <th>530</th>\n",
       "      <td>Ra20_Rb027</td>\n",
       "      <td>N#Cc1c(-c2cccc(I)c2)nc(-c2cccc(I)c2)c(C#N)c1-c...</td>\n",
       "      <td>1.038715</td>\n",
       "      <td>0.610266</td>\n",
       "    </tr>\n",
       "    <tr>\n",
       "      <th>303</th>\n",
       "      <td>Ra11_Rb024</td>\n",
       "      <td>Cc1ccc(-c2ccc(-c3c(C#N)c(-c4ccc(Cl)cc4)nc(-c4c...</td>\n",
       "      <td>1.313553</td>\n",
       "      <td>0.650861</td>\n",
       "    </tr>\n",
       "    <tr>\n",
       "      <th>138</th>\n",
       "      <td>Ra05_Rb027</td>\n",
       "      <td>Cc1ccc(-c2nc(-c3ccc(C)cc3)c(C#N)c(-c3ccc(-c4cc...</td>\n",
       "      <td>1.328852</td>\n",
       "      <td>0.648977</td>\n",
       "    </tr>\n",
       "    <tr>\n",
       "      <th>135</th>\n",
       "      <td>Ra05_Rb024</td>\n",
       "      <td>Cc1ccc(-c2ccc(-c3c(C#N)c(-c4ccc(C)cc4)nc(-c4cc...</td>\n",
       "      <td>1.381411</td>\n",
       "      <td>0.558402</td>\n",
       "    </tr>\n",
       "    <tr>\n",
       "      <th>54</th>\n",
       "      <td>Ra02_Rb027</td>\n",
       "      <td>N#Cc1cccc(-c2nc(-c3cccc(C#N)c3)c(C#N)c(-c3ccc(...</td>\n",
       "      <td>3.004095</td>\n",
       "      <td>0.123981</td>\n",
       "    </tr>\n",
       "    <tr>\n",
       "      <th>29</th>\n",
       "      <td>Ra02_Rb002</td>\n",
       "      <td>N#Cc1cccc(-c2nc(-c3cccc(C#N)c3)c(C#N)c(-c3ccc(...</td>\n",
       "      <td>3.393711</td>\n",
       "      <td>0.121014</td>\n",
       "    </tr>\n",
       "    <tr>\n",
       "      <th>191</th>\n",
       "      <td>Ra07_Rb024</td>\n",
       "      <td>Cc1ccc(-c2ccc(-c3c(C#N)c(-c4ccc(C(F)(F)F)cc4)n...</td>\n",
       "      <td>3.491008</td>\n",
       "      <td>0.115032</td>\n",
       "    </tr>\n",
       "    <tr>\n",
       "      <th>51</th>\n",
       "      <td>Ra02_Rb024</td>\n",
       "      <td>Cc1ccc(-c2ccc(-c3c(C#N)c(-c4cccc(C#N)c4)nc(-c4...</td>\n",
       "      <td>3.820943</td>\n",
       "      <td>0.113015</td>\n",
       "    </tr>\n",
       "    <tr>\n",
       "      <th>327</th>\n",
       "      <td>Ra12_Rb020</td>\n",
       "      <td>Cc1cccc(-c2nc(-c3cccc(C)c3)c(C#N)c(-c3ccc(-n4c...</td>\n",
       "      <td>4.867182</td>\n",
       "      <td>0.125048</td>\n",
       "    </tr>\n",
       "  </tbody>\n",
       "</table>\n",
       "</div>"
      ],
      "text/plain": [
       "           name                                              SMILE     kappa  \\\n",
       "122  Ra05_Rb011  Cc1ccc(-c2nc(-c3ccc(C)cc3)c(C#N)c(-c3ccc4c(c3)...  0.295157   \n",
       "502  Ra18_Rb027  N#Cc1c(-c2ccc(I)cc2)nc(-c2ccc(I)cc2)c(C#N)c1-c...  0.476478   \n",
       "308  Ra12_Rb001  Cc1cccc(-c2nc(-c3cccc(C)c3)c(C#N)c(-c3cccc4ccc...  0.980018   \n",
       "530  Ra20_Rb027  N#Cc1c(-c2cccc(I)c2)nc(-c2cccc(I)c2)c(C#N)c1-c...  1.038715   \n",
       "303  Ra11_Rb024  Cc1ccc(-c2ccc(-c3c(C#N)c(-c4ccc(Cl)cc4)nc(-c4c...  1.313553   \n",
       "138  Ra05_Rb027  Cc1ccc(-c2nc(-c3ccc(C)cc3)c(C#N)c(-c3ccc(-c4cc...  1.328852   \n",
       "135  Ra05_Rb024  Cc1ccc(-c2ccc(-c3c(C#N)c(-c4ccc(C)cc4)nc(-c4cc...  1.381411   \n",
       "54   Ra02_Rb027  N#Cc1cccc(-c2nc(-c3cccc(C#N)c3)c(C#N)c(-c3ccc(...  3.004095   \n",
       "29   Ra02_Rb002  N#Cc1cccc(-c2nc(-c3cccc(C#N)c3)c(C#N)c(-c3ccc(...  3.393711   \n",
       "191  Ra07_Rb024  Cc1ccc(-c2ccc(-c3c(C#N)c(-c4ccc(C(F)(F)F)cc4)n...  3.491008   \n",
       "51   Ra02_Rb024  Cc1ccc(-c2ccc(-c3c(C#N)c(-c4cccc(C#N)c4)nc(-c4...  3.820943   \n",
       "327  Ra12_Rb020  Cc1cccc(-c2nc(-c3cccc(C)c3)c(C#N)c(-c3ccc(-n4c...  4.867182   \n",
       "\n",
       "         mean  \n",
       "122  0.680056  \n",
       "502  0.656313  \n",
       "308  0.630278  \n",
       "530  0.610266  \n",
       "303  0.650861  \n",
       "138  0.648977  \n",
       "135  0.558402  \n",
       "54   0.123981  \n",
       "29   0.121014  \n",
       "191  0.115032  \n",
       "51   0.113015  \n",
       "327  0.125048  "
      ]
     },
     "execution_count": 9,
     "metadata": {},
     "output_type": "execute_result"
    }
   ],
   "source": [
    "# Get the suggestion\n",
    "opt.sampling = pca_features\n",
    "next_x = opt.parallel_ask(acq_func_args=parallel_param, num_samples=1)\n",
    "next_df = bo.get_next_df(suggested_x=next_x, parallel_param=parallel_param, \n",
    "                      samples=pca_features, df=dft_df)\n",
    "next_df = next_df.reindex(columns=['name', 'SMILE', 'kappa', 'mean'])\n",
    "x = np.array(next_x).reshape(-1, 5)\n",
    "# Get the mean values from GPs\n",
    "next_df.loc[:, 'mean'] = list(opt.base_estimator.predict(X=x).reshape(-1,))\n",
    "next_df"
   ]
  },
  {
   "cell_type": "code",
   "execution_count": 10,
   "metadata": {
    "pycharm": {
     "name": "#%%\n"
    }
   },
   "outputs": [],
   "source": [
    "# Append the next suggestion sheet to the original Excel file\n",
    "with pd.ExcelWriter('../data/opt_cnps/suggested_cnps.xlsx', mode='a') as excel_writer:\n",
    "    next_df.to_excel(excel_writer, sheet_name='step_{}'.format(n_step + 1))\n",
    "# Save the BO object\n",
    "with open('../data/opt_cnps/photoredox_BO.pkl', 'wb') as bo_file:\n",
    "    pickle.dump(opt, file=bo_file)"
   ]
  },
  {
   "cell_type": "markdown",
   "metadata": {
    "pycharm": {
     "name": "#%% md\n"
    }
   },
   "source": [
    "## 2.8 Step 7"
   ]
  },
  {
   "cell_type": "code",
   "execution_count": 13,
   "metadata": {
    "pycharm": {
     "name": "#%%\n"
    }
   },
   "outputs": [
    {
     "data": {
      "text/html": [
       "<div>\n",
       "<style scoped>\n",
       "    .dataframe tbody tr th:only-of-type {\n",
       "        vertical-align: middle;\n",
       "    }\n",
       "\n",
       "    .dataframe tbody tr th {\n",
       "        vertical-align: top;\n",
       "    }\n",
       "\n",
       "    .dataframe thead th {\n",
       "        text-align: right;\n",
       "    }\n",
       "</style>\n",
       "<table border=\"1\" class=\"dataframe\">\n",
       "  <thead>\n",
       "    <tr style=\"text-align: right;\">\n",
       "      <th></th>\n",
       "      <th>name</th>\n",
       "      <th>smiles</th>\n",
       "      <th>yield</th>\n",
       "    </tr>\n",
       "    <tr>\n",
       "      <th>ID</th>\n",
       "      <th></th>\n",
       "      <th></th>\n",
       "      <th></th>\n",
       "    </tr>\n",
       "  </thead>\n",
       "  <tbody>\n",
       "    <tr>\n",
       "      <th>122</th>\n",
       "      <td>Ra05_Rb011</td>\n",
       "      <td>Cc1ccc(-c2nc(-c3ccc(C)cc3)c(C#N)c(-c3ccc4c(c3)...</td>\n",
       "      <td>53.000000</td>\n",
       "    </tr>\n",
       "    <tr>\n",
       "      <th>303</th>\n",
       "      <td>Ra11_Rb024</td>\n",
       "      <td>Cc1ccc(-c2ccc(-c3c(C#N)c(-c4ccc(Cl)cc4)nc(-c4c...</td>\n",
       "      <td>0.666667</td>\n",
       "    </tr>\n",
       "    <tr>\n",
       "      <th>135</th>\n",
       "      <td>Ra05_Rb024</td>\n",
       "      <td>Cc1ccc(-c2ccc(-c3c(C#N)c(-c4ccc(C)cc4)nc(-c4cc...</td>\n",
       "      <td>0.000000</td>\n",
       "    </tr>\n",
       "    <tr>\n",
       "      <th>29</th>\n",
       "      <td>Ra02_Rb002</td>\n",
       "      <td>N#Cc1cccc(-c2nc(-c3cccc(C#N)c3)c(C#N)c(-c3ccc(...</td>\n",
       "      <td>0.333333</td>\n",
       "    </tr>\n",
       "    <tr>\n",
       "      <th>327</th>\n",
       "      <td>Ra12_Rb020</td>\n",
       "      <td>Cc1cccc(-c2nc(-c3cccc(C)c3)c(C#N)c(-c3ccc(-n4c...</td>\n",
       "      <td>23.000000</td>\n",
       "    </tr>\n",
       "    <tr>\n",
       "      <th>156</th>\n",
       "      <td>Ra06_Rb017</td>\n",
       "      <td>Cn1c2ccccc2c2cc(-c3c(C#N)c(-c4ccc(F)cc4)nc(-c4...</td>\n",
       "      <td>51.000000</td>\n",
       "    </tr>\n",
       "    <tr>\n",
       "      <th>502</th>\n",
       "      <td>Ra18_Rb027</td>\n",
       "      <td>N#Cc1c(-c2ccc(I)cc2)nc(-c2ccc(I)cc2)c(C#N)c1-c...</td>\n",
       "      <td>0.000000</td>\n",
       "    </tr>\n",
       "    <tr>\n",
       "      <th>138</th>\n",
       "      <td>Ra05_Rb027</td>\n",
       "      <td>Cc1ccc(-c2nc(-c3ccc(C)cc3)c(C#N)c(-c3ccc(-c4cc...</td>\n",
       "      <td>0.000000</td>\n",
       "    </tr>\n",
       "  </tbody>\n",
       "</table>\n",
       "</div>"
      ],
      "text/plain": [
       "           name                                             smiles      yield\n",
       "ID                                                                           \n",
       "122  Ra05_Rb011  Cc1ccc(-c2nc(-c3ccc(C)cc3)c(C#N)c(-c3ccc4c(c3)...  53.000000\n",
       "303  Ra11_Rb024  Cc1ccc(-c2ccc(-c3c(C#N)c(-c4ccc(Cl)cc4)nc(-c4c...   0.666667\n",
       "135  Ra05_Rb024  Cc1ccc(-c2ccc(-c3c(C#N)c(-c4ccc(C)cc4)nc(-c4cc...   0.000000\n",
       "29   Ra02_Rb002  N#Cc1cccc(-c2nc(-c3cccc(C#N)c3)c(C#N)c(-c3ccc(...   0.333333\n",
       "327  Ra12_Rb020  Cc1cccc(-c2nc(-c3cccc(C)c3)c(C#N)c(-c3ccc(-n4c...  23.000000\n",
       "156  Ra06_Rb017  Cn1c2ccccc2c2cc(-c3c(C#N)c(-c4ccc(F)cc4)nc(-c4...  51.000000\n",
       "502  Ra18_Rb027  N#Cc1c(-c2ccc(I)cc2)nc(-c2ccc(I)cc2)c(C#N)c1-c...   0.000000\n",
       "138  Ra05_Rb027  Cc1ccc(-c2nc(-c3ccc(C)cc3)c(C#N)c(-c3ccc(-c4cc...   0.000000"
      ]
     },
     "execution_count": 13,
     "metadata": {},
     "output_type": "execute_result"
    }
   ],
   "source": [
    "n_step = 7\n",
    "# Loading feature matrix and experimental results\n",
    "pca_features = np.load('../data/opt_cnps/pca_features.npy')\n",
    "dft_df = pd.read_excel('../data/560_DFT_result.xlsx', index_col='ID')\n",
    "exp_data_path = '../data/opt_cnps/exp_data_steps.xlsx'\n",
    "exp_x, exp_y, exp_df = bo.load_exp_data(\n",
    "    exp_df_path=exp_data_path, sheet_name='step_{}'.format(n_step), \n",
    "    samples=pca_features, return_df=True\n",
    ")\n",
    "exp_df"
   ]
  },
  {
   "cell_type": "code",
   "execution_count": 4,
   "metadata": {
    "pycharm": {
     "name": "#%%\n"
    }
   },
   "outputs": [
    {
     "data": {
      "text/plain": [
       "0.316**2 * Matern(length_scale=[0.0374, 0.0313, 0.228, 8.15e+03, 2.75e+05], nu=2.5)"
      ]
     },
     "execution_count": 4,
     "metadata": {},
     "output_type": "execute_result"
    }
   ],
   "source": [
    "# Load previous BO_object\n",
    "with open('../data/opt_cnps/photoredox_BO.pkl', 'rb') as bo_file:\n",
    "    opt = pickle.load(bo_file)\n",
    "# Tell experimental results and fitting the GPs\n",
    "opt.tell(x=exp_x, y=exp_y)\n",
    "opt.base_estimator.kernel_"
   ]
  },
  {
   "cell_type": "code",
   "execution_count": 19,
   "metadata": {
    "pycharm": {
     "name": "#%%\n"
    }
   },
   "outputs": [
    {
     "data": {
      "text/plain": [
       "{'kappa': [0.10889742824207856,\n",
       "  0.21646694036122738,\n",
       "  0.45079677871247537,\n",
       "  0.937074841405609,\n",
       "  1.3760757504993149,\n",
       "  1.6289397317912577,\n",
       "  1.9498860056548615,\n",
       "  2.5101832788002447,\n",
       "  2.9570800480263157,\n",
       "  3.0227228519036404,\n",
       "  3.3724298023408967,\n",
       "  4.90927343769168]}"
      ]
     },
     "execution_count": 19,
     "metadata": {},
     "output_type": "execute_result"
    }
   ],
   "source": [
    "# Step 5 parallel suggestion parameters\n",
    "parallel_param = bo.util.kwargs_generator(mean=2.5, size=12, name='kappa')\n",
    "parallel_param"
   ]
  },
  {
   "cell_type": "code",
   "execution_count": 6,
   "metadata": {
    "pycharm": {
     "name": "#%%\n"
    }
   },
   "outputs": [
    {
     "data": {
      "text/html": [
       "<div>\n",
       "<style scoped>\n",
       "    .dataframe tbody tr th:only-of-type {\n",
       "        vertical-align: middle;\n",
       "    }\n",
       "\n",
       "    .dataframe tbody tr th {\n",
       "        vertical-align: top;\n",
       "    }\n",
       "\n",
       "    .dataframe thead th {\n",
       "        text-align: right;\n",
       "    }\n",
       "</style>\n",
       "<table border=\"1\" class=\"dataframe\">\n",
       "  <thead>\n",
       "    <tr style=\"text-align: right;\">\n",
       "      <th></th>\n",
       "      <th>name</th>\n",
       "      <th>SMILE</th>\n",
       "      <th>kappa</th>\n",
       "      <th>mean</th>\n",
       "    </tr>\n",
       "  </thead>\n",
       "  <tbody>\n",
       "    <tr>\n",
       "      <th>155</th>\n",
       "      <td>Ra06_Rb016</td>\n",
       "      <td>CCn1c2ccccc2c2cc(-c3c(C#N)c(-c4ccc(F)cc4)nc(-c...</td>\n",
       "      <td>0.047995</td>\n",
       "      <td>0.664804</td>\n",
       "    </tr>\n",
       "    <tr>\n",
       "      <th>318</th>\n",
       "      <td>Ra12_Rb011</td>\n",
       "      <td>Cc1cccc(-c2nc(-c3cccc(C)c3)c(C#N)c(-c3ccc4c(c3...</td>\n",
       "      <td>0.525416</td>\n",
       "      <td>0.647941</td>\n",
       "    </tr>\n",
       "    <tr>\n",
       "      <th>63</th>\n",
       "      <td>Ra03_Rb008</td>\n",
       "      <td>COc1ccc2cc(-c3c(C#N)c(-c4ccc(C#N)cc4)nc(-c4ccc...</td>\n",
       "      <td>0.587910</td>\n",
       "      <td>0.588326</td>\n",
       "    </tr>\n",
       "    <tr>\n",
       "      <th>371</th>\n",
       "      <td>Ra14_Rb008</td>\n",
       "      <td>COc1ccc2cc(-c3c(C#N)c(-c4cccc(Br)c4)nc(-c4cccc...</td>\n",
       "      <td>1.670862</td>\n",
       "      <td>0.557580</td>\n",
       "    </tr>\n",
       "    <tr>\n",
       "      <th>175</th>\n",
       "      <td>Ra07_Rb008</td>\n",
       "      <td>COc1ccc2cc(-c3c(C#N)c(-c4ccc(C(F)(F)F)cc4)nc(-...</td>\n",
       "      <td>1.684856</td>\n",
       "      <td>0.476545</td>\n",
       "    </tr>\n",
       "    <tr>\n",
       "      <th>427</th>\n",
       "      <td>Ra16_Rb008</td>\n",
       "      <td>COc1ccc2cc(-c3c(C#N)c(-c4cccc(Cl)c4)nc(-c4cccc...</td>\n",
       "      <td>2.009551</td>\n",
       "      <td>0.449144</td>\n",
       "    </tr>\n",
       "    <tr>\n",
       "      <th>539</th>\n",
       "      <td>Ra21_Rb008</td>\n",
       "      <td>COc1ccc2cc(-c3c(C#N)c(-c4cccc(C(F)(F)F)c4)nc(-...</td>\n",
       "      <td>2.107478</td>\n",
       "      <td>0.456593</td>\n",
       "    </tr>\n",
       "    <tr>\n",
       "      <th>91</th>\n",
       "      <td>Ra04_Rb008</td>\n",
       "      <td>COc1ccc2cc(-c3c(C#N)c(-c4ccc(Br)cc4)nc(-c4ccc(...</td>\n",
       "      <td>2.207981</td>\n",
       "      <td>0.443307</td>\n",
       "    </tr>\n",
       "    <tr>\n",
       "      <th>287</th>\n",
       "      <td>Ra11_Rb008</td>\n",
       "      <td>COc1ccc2cc(-c3c(C#N)c(-c4ccc(Cl)cc4)nc(-c4ccc(...</td>\n",
       "      <td>3.160213</td>\n",
       "      <td>0.414493</td>\n",
       "    </tr>\n",
       "    <tr>\n",
       "      <th>399</th>\n",
       "      <td>Ra15_Rb008</td>\n",
       "      <td>COc1ccc2cc(-c3c(C#N)c(-c4cccc(F)c4)nc(-c4cccc(...</td>\n",
       "      <td>3.832160</td>\n",
       "      <td>0.394832</td>\n",
       "    </tr>\n",
       "    <tr>\n",
       "      <th>455</th>\n",
       "      <td>Ra17_Rb008</td>\n",
       "      <td>COc1cccc(-c2nc(-c3cccc(OC)c3)c(C#N)c(-c3ccc4cc...</td>\n",
       "      <td>6.939306</td>\n",
       "      <td>0.276024</td>\n",
       "    </tr>\n",
       "    <tr>\n",
       "      <th>119</th>\n",
       "      <td>Ra05_Rb008</td>\n",
       "      <td>COc1ccc2cc(-c3c(C#N)c(-c4ccc(C)cc4)nc(-c4ccc(C...</td>\n",
       "      <td>7.066814</td>\n",
       "      <td>0.221832</td>\n",
       "    </tr>\n",
       "  </tbody>\n",
       "</table>\n",
       "</div>"
      ],
      "text/plain": [
       "           name                                              SMILE     kappa  \\\n",
       "155  Ra06_Rb016  CCn1c2ccccc2c2cc(-c3c(C#N)c(-c4ccc(F)cc4)nc(-c...  0.047995   \n",
       "318  Ra12_Rb011  Cc1cccc(-c2nc(-c3cccc(C)c3)c(C#N)c(-c3ccc4c(c3...  0.525416   \n",
       "63   Ra03_Rb008  COc1ccc2cc(-c3c(C#N)c(-c4ccc(C#N)cc4)nc(-c4ccc...  0.587910   \n",
       "371  Ra14_Rb008  COc1ccc2cc(-c3c(C#N)c(-c4cccc(Br)c4)nc(-c4cccc...  1.670862   \n",
       "175  Ra07_Rb008  COc1ccc2cc(-c3c(C#N)c(-c4ccc(C(F)(F)F)cc4)nc(-...  1.684856   \n",
       "427  Ra16_Rb008  COc1ccc2cc(-c3c(C#N)c(-c4cccc(Cl)c4)nc(-c4cccc...  2.009551   \n",
       "539  Ra21_Rb008  COc1ccc2cc(-c3c(C#N)c(-c4cccc(C(F)(F)F)c4)nc(-...  2.107478   \n",
       "91   Ra04_Rb008  COc1ccc2cc(-c3c(C#N)c(-c4ccc(Br)cc4)nc(-c4ccc(...  2.207981   \n",
       "287  Ra11_Rb008  COc1ccc2cc(-c3c(C#N)c(-c4ccc(Cl)cc4)nc(-c4ccc(...  3.160213   \n",
       "399  Ra15_Rb008  COc1ccc2cc(-c3c(C#N)c(-c4cccc(F)c4)nc(-c4cccc(...  3.832160   \n",
       "455  Ra17_Rb008  COc1cccc(-c2nc(-c3cccc(OC)c3)c(C#N)c(-c3ccc4cc...  6.939306   \n",
       "119  Ra05_Rb008  COc1ccc2cc(-c3c(C#N)c(-c4ccc(C)cc4)nc(-c4ccc(C...  7.066814   \n",
       "\n",
       "         mean  \n",
       "155  0.664804  \n",
       "318  0.647941  \n",
       "63   0.588326  \n",
       "371  0.557580  \n",
       "175  0.476545  \n",
       "427  0.449144  \n",
       "539  0.456593  \n",
       "91   0.443307  \n",
       "287  0.414493  \n",
       "399  0.394832  \n",
       "455  0.276024  \n",
       "119  0.221832  "
      ]
     },
     "execution_count": 6,
     "metadata": {},
     "output_type": "execute_result"
    }
   ],
   "source": [
    "# Get the suggestion\n",
    "opt.sampling = pca_features\n",
    "next_x = opt.parallel_ask(acq_func_args=parallel_param, num_samples=1)\n",
    "next_df = bo.util.get_next_df(suggested_x=next_x, parallel_param=parallel_param, \n",
    "                      samples=pca_features, df=dft_df)\n",
    "next_df = next_df.reindex(columns=['name', 'SMILE', 'kappa', 'mean'])\n",
    "x = np.array(next_x).reshape(-1, 5)\n",
    "# Get the mean values from GPs\n",
    "next_df.loc[:, 'mean'] = list(opt.base_estimator.predict(X=x).reshape(-1,))\n",
    "next_df"
   ]
  },
  {
   "cell_type": "code",
   "execution_count": 7,
   "metadata": {
    "pycharm": {
     "name": "#%%\n"
    }
   },
   "outputs": [],
   "source": [
    "# Append the next suggestion sheet to the original Excel file\n",
    "with pd.ExcelWriter('../data/opt_cnps/suggested_cnps.xlsx', mode='a') as excel_writer:\n",
    "    next_df.to_excel(excel_writer, sheet_name='step_{}'.format(n_step + 1))\n",
    "# Save the BO object\n",
    "with open('../data/opt_cnps/photoredox_BO.pkl', 'wb') as bo_file:\n",
    "    pickle.dump(opt, file=bo_file)"
   ]
  },
  {
   "cell_type": "code",
   "execution_count": null,
   "metadata": {
    "pycharm": {
     "name": "#%%\n"
    }
   },
   "outputs": [],
   "source": []
  }
 ],
 "metadata": {
  "kernelspec": {
   "display_name": "Python 3 (ipykernel)",
   "language": "python",
   "name": "python3"
  },
  "language_info": {
   "codemirror_mode": {
    "name": "ipython",
    "version": 3
   },
   "file_extension": ".py",
   "mimetype": "text/x-python",
   "name": "python",
   "nbconvert_exporter": "python",
   "pygments_lexer": "ipython3",
   "version": "3.1.-1"
  },
  "pycharm": {
   "stem_cell": {
    "cell_type": "raw",
    "metadata": {
     "collapsed": false
    },
    "source": []
   }
  }
 },
 "nbformat": 4,
 "nbformat_minor": 4
}
